{
  "nbformat": 4,
  "nbformat_minor": 0,
  "metadata": {
    "colab": {
      "name": "appartment linear optimization.ipynb",
      "provenance": [],
      "collapsed_sections": []
    },
    "kernelspec": {
      "name": "python3",
      "display_name": "Python 3"
    }
  },
  "cells": [
    {
      "cell_type": "markdown",
      "metadata": {
        "id": "Lx2kZbIleCQ8"
      },
      "source": [
        "Going on vaction  https://github.com/AnnaNican/optimizers/blob/master/GoingOnVacation.ipynb\r\n",
        "\r\n",
        "Teacher classes assignment https://github.com/UBC-MDS/DSCI_512_alg-data-struct/blob/master/lectures/lecture7.ipynb"
      ]
    },
    {
      "cell_type": "code",
      "metadata": {
        "id": "cxOW1FWzeZ10"
      },
      "source": [
        "import pandas as pd\n",
        "import numpy as np\n",
        "import re\n",
        "\n",
        "from pulp import *\n",
        "\n",
        "\n",
        "import matplotlib.pyplot as plt\n",
        "from IPython.display import Image\n",
        "%matplotlib inline"
      ],
      "execution_count": 1,
      "outputs": []
    },
    {
      "cell_type": "code",
      "metadata": {
        "id": "ALgLrelKfcM8",
        "colab": {
          "base_uri": "https://localhost:8080/"
        },
        "outputId": "38da8ed8-065c-41a3-849e-989085e7f9b6"
      },
      "source": [
        "#%pwd\n",
        "!pip install pulp"
      ],
      "execution_count": 2,
      "outputs": [
        {
          "output_type": "stream",
          "text": [
            "Requirement already satisfied: pulp in /usr/local/lib/python3.6/dist-packages (2.4)\n",
            "Requirement already satisfied: amply>=0.1.2 in /usr/local/lib/python3.6/dist-packages (from pulp) (0.1.4)\n",
            "Requirement already satisfied: pyparsing in /usr/local/lib/python3.6/dist-packages (from amply>=0.1.2->pulp) (2.4.7)\n",
            "Requirement already satisfied: docutils>=0.3 in /usr/local/lib/python3.6/dist-packages (from amply>=0.1.2->pulp) (0.16)\n"
          ],
          "name": "stdout"
        }
      ]
    },
    {
      "cell_type": "code",
      "metadata": {
        "colab": {
          "base_uri": "https://localhost:8080/",
          "height": 162
        },
        "id": "YqDvXoC5fMfM",
        "outputId": "234f9104-44ac-4f39-b8f6-d8a8b0ba2082"
      },
      "source": [
        "df = pd.read_csv(\"/content/my_data/appartment optimizaton.csv\", sep = \",\")\n",
        "df\n",
        "#df.dtypes"
      ],
      "execution_count": null,
      "outputs": [
        {
          "output_type": "execute_result",
          "data": {
            "text/html": [
              "<div>\n",
              "<style scoped>\n",
              "    .dataframe tbody tr th:only-of-type {\n",
              "        vertical-align: middle;\n",
              "    }\n",
              "\n",
              "    .dataframe tbody tr th {\n",
              "        vertical-align: top;\n",
              "    }\n",
              "\n",
              "    .dataframe thead th {\n",
              "        text-align: right;\n",
              "    }\n",
              "</style>\n",
              "<table border=\"1\" class=\"dataframe\">\n",
              "  <thead>\n",
              "    <tr style=\"text-align: right;\">\n",
              "      <th></th>\n",
              "      <th>index</th>\n",
              "      <th>address</th>\n",
              "      <th>nr_room</th>\n",
              "      <th>size</th>\n",
              "      <th>floor_nr</th>\n",
              "      <th>toilet_window</th>\n",
              "      <th>sub_to_centre_min</th>\n",
              "      <th>cost</th>\n",
              "      <th>monthly_payment</th>\n",
              "      <th>driftkost</th>\n",
              "      <th>ad_reading_nr</th>\n",
              "      <th>bus</th>\n",
              "      <th>metro</th>\n",
              "      <th>simhall</th>\n",
              "      <th>build_year</th>\n",
              "      <th>ad_exist_days</th>\n",
              "      <th>price_raise_6m</th>\n",
              "      <th>price_raise_12m</th>\n",
              "      <th>price_raise_36m</th>\n",
              "    </tr>\n",
              "  </thead>\n",
              "  <tbody>\n",
              "    <tr>\n",
              "      <th>0</th>\n",
              "      <td>1</td>\n",
              "      <td>farsta</td>\n",
              "      <td>2.5</td>\n",
              "      <td>63.5</td>\n",
              "      <td>6</td>\n",
              "      <td>10</td>\n",
              "      <td>40</td>\n",
              "      <td>1795000</td>\n",
              "      <td>4650</td>\n",
              "      <td>659</td>\n",
              "      <td>3307</td>\n",
              "      <td>0</td>\n",
              "      <td>1</td>\n",
              "      <td>1</td>\n",
              "      <td>0</td>\n",
              "      <td>12</td>\n",
              "      <td>0.07</td>\n",
              "      <td>0.15</td>\n",
              "      <td>0.10</td>\n",
              "    </tr>\n",
              "    <tr>\n",
              "      <th>1</th>\n",
              "      <td>2</td>\n",
              "      <td>järfälla_jakobsberg</td>\n",
              "      <td>2.0</td>\n",
              "      <td>65.5</td>\n",
              "      <td>3</td>\n",
              "      <td>1</td>\n",
              "      <td>30</td>\n",
              "      <td>1995000</td>\n",
              "      <td>4142</td>\n",
              "      <td>400</td>\n",
              "      <td>860</td>\n",
              "      <td>0</td>\n",
              "      <td>1</td>\n",
              "      <td>1</td>\n",
              "      <td>0</td>\n",
              "      <td>5</td>\n",
              "      <td>0.07</td>\n",
              "      <td>0.07</td>\n",
              "      <td>0.05</td>\n",
              "    </tr>\n",
              "    <tr>\n",
              "      <th>2</th>\n",
              "      <td>3</td>\n",
              "      <td>salem</td>\n",
              "      <td>2.0</td>\n",
              "      <td>65.0</td>\n",
              "      <td>1</td>\n",
              "      <td>1</td>\n",
              "      <td>50</td>\n",
              "      <td>1975000</td>\n",
              "      <td>4556</td>\n",
              "      <td>450</td>\n",
              "      <td>1528</td>\n",
              "      <td>0</td>\n",
              "      <td>1</td>\n",
              "      <td>1</td>\n",
              "      <td>1</td>\n",
              "      <td>11</td>\n",
              "      <td>-0.01</td>\n",
              "      <td>0.05</td>\n",
              "      <td>0.04</td>\n",
              "    </tr>\n",
              "  </tbody>\n",
              "</table>\n",
              "</div>"
            ],
            "text/plain": [
              "   index              address  ...  price_raise_12m  price_raise_36m\n",
              "0      1               farsta  ...             0.15             0.10\n",
              "1      2  järfälla_jakobsberg  ...             0.07             0.05\n",
              "2      3                salem  ...             0.05             0.04\n",
              "\n",
              "[3 rows x 19 columns]"
            ]
          },
          "metadata": {
            "tags": []
          },
          "execution_count": 2
        }
      ]
    },
    {
      "cell_type": "code",
      "metadata": {
        "id": "FELDjChOhmxL"
      },
      "source": [
        "# create the LP object, set up as a minimization problem --> since we want to minimize the costs \n",
        "prob = pulp.LpProblem('ChooseFlat', LpMinimize)"
      ],
      "execution_count": null,
      "outputs": []
    },
    {
      "cell_type": "code",
      "metadata": {
        "colab": {
          "base_uri": "https://localhost:8080/"
        },
        "id": "Te1LCnGFh8w_",
        "outputId": "5f92af4e-b3c5-4d47-d428-7b0a93567a2c"
      },
      "source": [
        "# create decision variables\n",
        "\n",
        "decision_variables = []\n",
        "for rownum, row in df.iterrows():\n",
        "\tvariable = str('x' + str(rownum))\n",
        "\tvariable = pulp.LpVariable(str(variable), lowBound = 0, upBound = 1, cat= 'Integer') #make variables binary\n",
        "\tdecision_variables.append(variable)\n",
        "\n",
        "print (\"Total number of decision_variables: \" + str(len(decision_variables)))\n",
        "print (\"Array with Decision Variables:\" + str(decision_variables))"
      ],
      "execution_count": null,
      "outputs": [
        {
          "output_type": "stream",
          "text": [
            "Total number of decision_variables: 3\n",
            "Array with Decision Variables:[x0, x1, x2]\n"
          ],
          "name": "stdout"
        }
      ]
    },
    {
      "cell_type": "code",
      "metadata": {
        "colab": {
          "base_uri": "https://localhost:8080/"
        },
        "id": "SkGTXv6NiLCj",
        "outputId": "170d3a26-9542-4dcc-de9c-b7cfeb3ce0e6"
      },
      "source": [
        "# define objective function: minimize the cost\n",
        "\n",
        "total_cost = \"\"\n",
        "for rownum, row in df.iterrows():\n",
        "\tfor i, schedule in enumerate(decision_variables):\n",
        "\t\tif rownum == i:\n",
        "\t\t\tformula = (((row['cost'] + row['monthly_payment'] + row['driftkost'])/row['size']) + row['price_raise_36m']*(-100) + row['price_raise_6m']*(-10))* row['toilet_window']*row['floor_nr']*schedule\n",
        "\t\t\ttotal_cost += formula\n",
        "\n",
        "prob += total_cost\n",
        "print (\"Optimization function: \" + str(total_cost))\n",
        "\n",
        "\n"
      ],
      "execution_count": null,
      "outputs": [
        {
          "output_type": "stream",
          "text": [
            "Optimization function: 1700437.3700787402*x0 + 91564.97633587787*x1 + 30457.73076923077*x2\n"
          ],
          "name": "stdout"
        }
      ]
    },
    {
      "cell_type": "code",
      "metadata": {
        "colab": {
          "base_uri": "https://localhost:8080/"
        },
        "id": "miwxlSMAlxVm",
        "outputId": "37a652c5-699e-43c1-f00b-ccbe4d8af296"
      },
      "source": [
        "transport_time = 30 # minute\n",
        "total_time_min = \"\"\n",
        "for rownum, row in df.iterrows():\n",
        "\tfor i, schedule in enumerate(decision_variables):\n",
        "\t\tif rownum == i:\n",
        "\t\t\tformula = (row['metro'] + row['bus']) * row['sub_to_centre_min'] *schedule\n",
        "\t\t\ttotal_time_min += formula\n",
        "\n",
        "prob += (total_time_min <= transport_time)\n",
        "prob"
      ],
      "execution_count": null,
      "outputs": [
        {
          "output_type": "execute_result",
          "data": {
            "text/plain": [
              "ChooseFlat:\n",
              "MINIMIZE\n",
              "1700437.3700787402*x0 + 91564.97633587787*x1 + 30457.73076923077*x2 + 0.0\n",
              "SUBJECT TO\n",
              "_C1: 40 x0 + 30 x1 + 50 x2 <= 30\n",
              "\n",
              "VARIABLES\n",
              "0 <= x0 <= 1 Integer\n",
              "0 <= x1 <= 1 Integer\n",
              "0 <= x2 <= 1 Integer"
            ]
          },
          "metadata": {
            "tags": []
          },
          "execution_count": 6
        }
      ]
    },
    {
      "cell_type": "code",
      "metadata": {
        "colab": {
          "base_uri": "https://localhost:8080/"
        },
        "id": "ZU72TROwpUQH",
        "outputId": "97a22b32-15ca-43b2-9ba5-4ace69677a2e"
      },
      "source": [
        "# room, toilet  window: to get average point in order to compare different flats. mean(# of rooms) = 2, mean(toilet window) = 0.5, mean(# of floors in a buildning) = 3\n",
        "\n",
        "our_expect = 1.5 # \n",
        "total_points = \"\"\n",
        "for rownum, row in df.iterrows():\n",
        "\tfor i, schedule in enumerate(decision_variables):\n",
        "\t\tif rownum == i:\n",
        "\t\t\tformula = (((row['nr_room'] + row['toilet_window'] + row['floor_nr'])/(2+0.5+3)) + row['simhall'])*schedule\n",
        "\t\t\ttotal_points += formula\n",
        "\n",
        "prob += (total_points >= our_expect)\n",
        "prob"
      ],
      "execution_count": null,
      "outputs": [
        {
          "output_type": "execute_result",
          "data": {
            "text/plain": [
              "ChooseFlat:\n",
              "MINIMIZE\n",
              "1700437.3700787402*x0 + 91564.97633587787*x1 + 30457.73076923077*x2 + 0.0\n",
              "SUBJECT TO\n",
              "_C1: 40 x0 + 30 x1 + 50 x2 <= 30\n",
              "\n",
              "_C2: 4.36363636364 x0 + 2.09090909091 x1 + 1.72727272727 x2 >= 1.5\n",
              "\n",
              "VARIABLES\n",
              "0 <= x0 <= 1 Integer\n",
              "0 <= x1 <= 1 Integer\n",
              "0 <= x2 <= 1 Integer"
            ]
          },
          "metadata": {
            "tags": []
          },
          "execution_count": 7
        }
      ]
    },
    {
      "cell_type": "code",
      "metadata": {
        "colab": {
          "base_uri": "https://localhost:8080/"
        },
        "id": "faoIG8Gfp6KZ",
        "outputId": "264b494e-8536-48fc-95de-e5a5baafe423"
      },
      "source": [
        "print(prob)\n",
        "prob.writeLP(\"ChooseFlat.lp\" )"
      ],
      "execution_count": null,
      "outputs": [
        {
          "output_type": "stream",
          "text": [
            "ChooseFlat:\n",
            "MINIMIZE\n",
            "1700437.3700787402*x0 + 91564.97633587787*x1 + 30457.73076923077*x2 + 0.0\n",
            "SUBJECT TO\n",
            "_C1: 40 x0 + 30 x1 + 50 x2 <= 30\n",
            "\n",
            "_C2: 4.36363636364 x0 + 2.09090909091 x1 + 1.72727272727 x2 >= 1.5\n",
            "\n",
            "VARIABLES\n",
            "0 <= x0 <= 1 Integer\n",
            "0 <= x1 <= 1 Integer\n",
            "0 <= x2 <= 1 Integer\n",
            "\n"
          ],
          "name": "stdout"
        },
        {
          "output_type": "execute_result",
          "data": {
            "text/plain": [
              "[x0, x1, x2]"
            ]
          },
          "metadata": {
            "tags": []
          },
          "execution_count": 8
        }
      ]
    },
    {
      "cell_type": "code",
      "metadata": {
        "colab": {
          "base_uri": "https://localhost:8080/"
        },
        "id": "2p8oECwAqIrL",
        "outputId": "27c92610-adb1-4e5f-fc01-e1cc5c2171d9"
      },
      "source": [
        "optimization_result = prob.solve()\n",
        "\n",
        "#assert optimization_result == pulp.LpStatusOptimal\n",
        "print(\"Status:\", LpStatus[prob.status])\n",
        "print(\"Optimal Solution to the problem: \", value(prob.objective))\n",
        "print (\"Individual decision_variables: \")\n",
        "for v in prob.variables():\n",
        "\tprint(v.name, \"=\", v.varValue)"
      ],
      "execution_count": null,
      "outputs": [
        {
          "output_type": "stream",
          "text": [
            "Status: Optimal\n",
            "Optimal Solution to the problem:  91564.97633587787\n",
            "Individual decision_variables: \n",
            "x0 = 0.0\n",
            "x1 = 1.0\n",
            "x2 = 0.0\n"
          ],
          "name": "stdout"
        }
      ]
    },
    {
      "cell_type": "code",
      "metadata": {
        "colab": {
          "base_uri": "https://localhost:8080/",
          "height": 162
        },
        "id": "gVM7e-xfqRU8",
        "outputId": "d6aa5c21-1b4b-4946-8105-2e02eadb8948"
      },
      "source": [
        "variable_name = []\n",
        "variable_value = []\n",
        "\n",
        "for v in prob.variables():\n",
        "\tvariable_name.append(v.name)\n",
        "\tvariable_value.append(v.varValue)\n",
        "\n",
        "opt_res = pd.DataFrame({'variable': variable_name, 'value': variable_value})\n",
        "for rownum, row in opt_res.iterrows():\n",
        "\tvalue = re.findall(r'(\\d+)', row['variable'])\n",
        "\topt_res.loc[rownum, 'variable'] = int(value[0])\n",
        "\n",
        "opt_res = opt_res.sort_values(by = 'variable')\n",
        "\n",
        "#append results\n",
        "for rownum, row in df.iterrows():\n",
        "\tfor results_rownum, results_row in opt_res.iterrows():\n",
        "\t\tif rownum == results_row['variable']:\n",
        "\t\t\tdf.loc[rownum, 'decision'] = results_row['value']\n",
        "            \n",
        "df"
      ],
      "execution_count": null,
      "outputs": [
        {
          "output_type": "execute_result",
          "data": {
            "text/html": [
              "<div>\n",
              "<style scoped>\n",
              "    .dataframe tbody tr th:only-of-type {\n",
              "        vertical-align: middle;\n",
              "    }\n",
              "\n",
              "    .dataframe tbody tr th {\n",
              "        vertical-align: top;\n",
              "    }\n",
              "\n",
              "    .dataframe thead th {\n",
              "        text-align: right;\n",
              "    }\n",
              "</style>\n",
              "<table border=\"1\" class=\"dataframe\">\n",
              "  <thead>\n",
              "    <tr style=\"text-align: right;\">\n",
              "      <th></th>\n",
              "      <th>index</th>\n",
              "      <th>address</th>\n",
              "      <th>nr_room</th>\n",
              "      <th>size</th>\n",
              "      <th>floor_nr</th>\n",
              "      <th>toilet_window</th>\n",
              "      <th>sub_to_centre_min</th>\n",
              "      <th>cost</th>\n",
              "      <th>monthly_payment</th>\n",
              "      <th>driftkost</th>\n",
              "      <th>ad_reading_nr</th>\n",
              "      <th>bus</th>\n",
              "      <th>metro</th>\n",
              "      <th>simhall</th>\n",
              "      <th>build_year</th>\n",
              "      <th>ad_exist_days</th>\n",
              "      <th>price_raise_6m</th>\n",
              "      <th>price_raise_12m</th>\n",
              "      <th>price_raise_36m</th>\n",
              "      <th>decision</th>\n",
              "    </tr>\n",
              "  </thead>\n",
              "  <tbody>\n",
              "    <tr>\n",
              "      <th>0</th>\n",
              "      <td>1</td>\n",
              "      <td>farsta</td>\n",
              "      <td>2.5</td>\n",
              "      <td>63.5</td>\n",
              "      <td>6</td>\n",
              "      <td>10</td>\n",
              "      <td>40</td>\n",
              "      <td>1795000</td>\n",
              "      <td>4650</td>\n",
              "      <td>659</td>\n",
              "      <td>3307</td>\n",
              "      <td>0</td>\n",
              "      <td>1</td>\n",
              "      <td>1</td>\n",
              "      <td>0</td>\n",
              "      <td>12</td>\n",
              "      <td>0.07</td>\n",
              "      <td>0.15</td>\n",
              "      <td>0.10</td>\n",
              "      <td>0.0</td>\n",
              "    </tr>\n",
              "    <tr>\n",
              "      <th>1</th>\n",
              "      <td>2</td>\n",
              "      <td>järfälla_jakobsberg</td>\n",
              "      <td>2.0</td>\n",
              "      <td>65.5</td>\n",
              "      <td>3</td>\n",
              "      <td>1</td>\n",
              "      <td>30</td>\n",
              "      <td>1995000</td>\n",
              "      <td>4142</td>\n",
              "      <td>400</td>\n",
              "      <td>860</td>\n",
              "      <td>0</td>\n",
              "      <td>1</td>\n",
              "      <td>1</td>\n",
              "      <td>0</td>\n",
              "      <td>5</td>\n",
              "      <td>0.07</td>\n",
              "      <td>0.07</td>\n",
              "      <td>0.05</td>\n",
              "      <td>1.0</td>\n",
              "    </tr>\n",
              "    <tr>\n",
              "      <th>2</th>\n",
              "      <td>3</td>\n",
              "      <td>salem</td>\n",
              "      <td>2.0</td>\n",
              "      <td>65.0</td>\n",
              "      <td>1</td>\n",
              "      <td>1</td>\n",
              "      <td>50</td>\n",
              "      <td>1975000</td>\n",
              "      <td>4556</td>\n",
              "      <td>450</td>\n",
              "      <td>1528</td>\n",
              "      <td>0</td>\n",
              "      <td>1</td>\n",
              "      <td>1</td>\n",
              "      <td>1</td>\n",
              "      <td>11</td>\n",
              "      <td>-0.01</td>\n",
              "      <td>0.05</td>\n",
              "      <td>0.04</td>\n",
              "      <td>0.0</td>\n",
              "    </tr>\n",
              "  </tbody>\n",
              "</table>\n",
              "</div>"
            ],
            "text/plain": [
              "   index              address  ...  price_raise_36m  decision\n",
              "0      1               farsta  ...             0.10       0.0\n",
              "1      2  järfälla_jakobsberg  ...             0.05       1.0\n",
              "2      3                salem  ...             0.04       0.0\n",
              "\n",
              "[3 rows x 20 columns]"
            ]
          },
          "metadata": {
            "tags": []
          },
          "execution_count": 10
        }
      ]
    },
    {
      "cell_type": "code",
      "metadata": {
        "colab": {
          "base_uri": "https://localhost:8080/",
          "height": 100
        },
        "id": "zyxZzW69qg1v",
        "outputId": "55f03e44-dd28-4e22-ee88-16d6f6e63059"
      },
      "source": [
        "df[df['decision'] == 1]"
      ],
      "execution_count": null,
      "outputs": [
        {
          "output_type": "execute_result",
          "data": {
            "text/html": [
              "<div>\n",
              "<style scoped>\n",
              "    .dataframe tbody tr th:only-of-type {\n",
              "        vertical-align: middle;\n",
              "    }\n",
              "\n",
              "    .dataframe tbody tr th {\n",
              "        vertical-align: top;\n",
              "    }\n",
              "\n",
              "    .dataframe thead th {\n",
              "        text-align: right;\n",
              "    }\n",
              "</style>\n",
              "<table border=\"1\" class=\"dataframe\">\n",
              "  <thead>\n",
              "    <tr style=\"text-align: right;\">\n",
              "      <th></th>\n",
              "      <th>index</th>\n",
              "      <th>address</th>\n",
              "      <th>nr_room</th>\n",
              "      <th>size</th>\n",
              "      <th>floor_nr</th>\n",
              "      <th>toilet_window</th>\n",
              "      <th>sub_to_centre_min</th>\n",
              "      <th>cost</th>\n",
              "      <th>monthly_payment</th>\n",
              "      <th>driftkost</th>\n",
              "      <th>ad_reading_nr</th>\n",
              "      <th>bus</th>\n",
              "      <th>metro</th>\n",
              "      <th>simhall</th>\n",
              "      <th>build_year</th>\n",
              "      <th>ad_exist_days</th>\n",
              "      <th>price_raise_6m</th>\n",
              "      <th>price_raise_12m</th>\n",
              "      <th>price_raise_36m</th>\n",
              "      <th>decision</th>\n",
              "    </tr>\n",
              "  </thead>\n",
              "  <tbody>\n",
              "    <tr>\n",
              "      <th>1</th>\n",
              "      <td>2</td>\n",
              "      <td>järfälla_jakobsberg</td>\n",
              "      <td>2.0</td>\n",
              "      <td>65.5</td>\n",
              "      <td>3</td>\n",
              "      <td>1</td>\n",
              "      <td>30</td>\n",
              "      <td>1995000</td>\n",
              "      <td>4142</td>\n",
              "      <td>400</td>\n",
              "      <td>860</td>\n",
              "      <td>0</td>\n",
              "      <td>1</td>\n",
              "      <td>1</td>\n",
              "      <td>0</td>\n",
              "      <td>5</td>\n",
              "      <td>0.07</td>\n",
              "      <td>0.07</td>\n",
              "      <td>0.05</td>\n",
              "      <td>1.0</td>\n",
              "    </tr>\n",
              "  </tbody>\n",
              "</table>\n",
              "</div>"
            ],
            "text/plain": [
              "   index              address  ...  price_raise_36m  decision\n",
              "1      2  järfälla_jakobsberg  ...             0.05       1.0\n",
              "\n",
              "[1 rows x 20 columns]"
            ]
          },
          "metadata": {
            "tags": []
          },
          "execution_count": 11
        }
      ]
    },
    {
      "cell_type": "markdown",
      "metadata": {
        "id": "8sB8W-NxXdHS"
      },
      "source": [
        "Minimize Cost "
      ]
    },
    {
      "cell_type": "code",
      "metadata": {
        "id": "vjtJdazhrFqm",
        "colab": {
          "base_uri": "https://localhost:8080/",
          "height": 106
        },
        "outputId": "9b043c4b-f2fc-4aeb-f124-b236418f1567"
      },
      "source": [
        "data = {\"location\": [\"Linköping\", \"Stockholm\"],\r\n",
        "        \"köp\": [1700000, 1700000],\r\n",
        "        \"hyra\": [12000, 15000],\r\n",
        "        \"månadskostnad\": [7900, 6800],\r\n",
        "        \"storlek\": [48, 40],\r\n",
        "        \"trafik_kostnad\": [5000, 1000]}\r\n",
        "df = pd.DataFrame(data)\r\n",
        "#df.index = [\"linköping\", \"stockholm\"]\r\n",
        "df"
      ],
      "execution_count": 2,
      "outputs": [
        {
          "output_type": "execute_result",
          "data": {
            "text/html": [
              "<div>\n",
              "<style scoped>\n",
              "    .dataframe tbody tr th:only-of-type {\n",
              "        vertical-align: middle;\n",
              "    }\n",
              "\n",
              "    .dataframe tbody tr th {\n",
              "        vertical-align: top;\n",
              "    }\n",
              "\n",
              "    .dataframe thead th {\n",
              "        text-align: right;\n",
              "    }\n",
              "</style>\n",
              "<table border=\"1\" class=\"dataframe\">\n",
              "  <thead>\n",
              "    <tr style=\"text-align: right;\">\n",
              "      <th></th>\n",
              "      <th>location</th>\n",
              "      <th>köp</th>\n",
              "      <th>hyra</th>\n",
              "      <th>månadskostnad</th>\n",
              "      <th>storlek</th>\n",
              "      <th>trafik_kostnad</th>\n",
              "    </tr>\n",
              "  </thead>\n",
              "  <tbody>\n",
              "    <tr>\n",
              "      <th>0</th>\n",
              "      <td>Linköping</td>\n",
              "      <td>1700000</td>\n",
              "      <td>12000</td>\n",
              "      <td>7900</td>\n",
              "      <td>48</td>\n",
              "      <td>5000</td>\n",
              "    </tr>\n",
              "    <tr>\n",
              "      <th>1</th>\n",
              "      <td>Stockholm</td>\n",
              "      <td>1700000</td>\n",
              "      <td>15000</td>\n",
              "      <td>6800</td>\n",
              "      <td>40</td>\n",
              "      <td>1000</td>\n",
              "    </tr>\n",
              "  </tbody>\n",
              "</table>\n",
              "</div>"
            ],
            "text/plain": [
              "    location      köp   hyra  månadskostnad  storlek  trafik_kostnad\n",
              "0  Linköping  1700000  12000           7900       48            5000\n",
              "1  Stockholm  1700000  15000           6800       40            1000"
            ]
          },
          "metadata": {
            "tags": []
          },
          "execution_count": 2
        }
      ]
    },
    {
      "cell_type": "code",
      "metadata": {
        "colab": {
          "base_uri": "https://localhost:8080/"
        },
        "id": "6j5t6jnTdw7x",
        "outputId": "61b47d6f-3acc-4009-884d-2a3fbeff43b9"
      },
      "source": [
        "# create the LP object, set up as a minimization problem --> since we want to minimize the costs \r\n",
        "prob = pulp.LpProblem('Minimize cost', LpMinimize)"
      ],
      "execution_count": 3,
      "outputs": [
        {
          "output_type": "stream",
          "text": [
            "/usr/local/lib/python3.6/dist-packages/pulp/pulp.py:1199: UserWarning: Spaces are not permitted in the name. Converted to '_'\n",
            "  warnings.warn(\"Spaces are not permitted in the name. Converted to '_'\")\n"
          ],
          "name": "stderr"
        }
      ]
    },
    {
      "cell_type": "code",
      "metadata": {
        "id": "RScHt7aVH1m-"
      },
      "source": [
        "locations = [\"Linköping\", \"Stockholm\"]\r\n",
        "buy_rent = [\"buy\", \"rent\"]"
      ],
      "execution_count": 4,
      "outputs": []
    },
    {
      "cell_type": "code",
      "metadata": {
        "colab": {
          "base_uri": "https://localhost:8080/"
        },
        "id": "KRFMkVBYIJo7",
        "outputId": "d78cd90e-a2a9-41ef-acd3-dd42ea957e86"
      },
      "source": [
        "location_choice = LpVariable.dicts('location choice',\r\n",
        "                                   ((i, j) for i in locations for j in buy_rent),\r\n",
        "                                   lowBound = 0, upBound = 1,\r\n",
        "                                   cat = 'Integer')\r\n",
        "location_choice"
      ],
      "execution_count": 5,
      "outputs": [
        {
          "output_type": "execute_result",
          "data": {
            "text/plain": [
              "{('Linköping', 'buy'): location_choice_('Linköping',_'buy'),\n",
              " ('Linköping', 'rent'): location_choice_('Linköping',_'rent'),\n",
              " ('Stockholm', 'buy'): location_choice_('Stockholm',_'buy'),\n",
              " ('Stockholm', 'rent'): location_choice_('Stockholm',_'rent')}"
            ]
          },
          "metadata": {
            "tags": []
          },
          "execution_count": 5
        }
      ]
    },
    {
      "cell_type": "code",
      "metadata": {
        "colab": {
          "base_uri": "https://localhost:8080/"
        },
        "id": "IJlFjnKaIpW4",
        "outputId": "6e7cd988-f280-4eb9-f1da-680fb7d8bc6c"
      },
      "source": [
        "for rownum, row in df.iterrows():\r\n",
        "  prob += lpSum([row['hyra']*location_choice[(i, j)] + row['månadskostnad']*location_choice[(i, j)] + row['trafik_kostnad']*location_choice[(i, j)] \r\n",
        "                       for i in locations for j in buy_rent])\r\n",
        "  \r\n",
        "print(prob)"
      ],
      "execution_count": 6,
      "outputs": [
        {
          "output_type": "stream",
          "text": [
            "Minimize_cost:\n",
            "MINIMIZE\n",
            "22800*location_choice_('Linköping',_'buy') + 22800*location_choice_('Linköping',_'rent') + 22800*location_choice_('Stockholm',_'buy') + 22800*location_choice_('Stockholm',_'rent') + 0\n",
            "VARIABLES\n",
            "0 <= location_choice_('Linköping',_'buy') <= 1 Integer\n",
            "0 <= location_choice_('Linköping',_'rent') <= 1 Integer\n",
            "0 <= location_choice_('Stockholm',_'buy') <= 1 Integer\n",
            "0 <= location_choice_('Stockholm',_'rent') <= 1 Integer\n",
            "\n"
          ],
          "name": "stdout"
        },
        {
          "output_type": "stream",
          "text": [
            "/usr/local/lib/python3.6/dist-packages/pulp/pulp.py:1537: UserWarning: Overwriting previously set objective.\n",
            "  warnings.warn(\"Overwriting previously set objective.\")\n"
          ],
          "name": "stderr"
        }
      ]
    },
    {
      "cell_type": "code",
      "metadata": {
        "colab": {
          "base_uri": "https://localhost:8080/"
        },
        "id": "d9Qv2gzJKugC",
        "outputId": "14fcf16d-fb5b-4c25-aa47-979ec1ddd9a3"
      },
      "source": [
        "for rownum, row in df.iterrows():\r\n",
        "  prob += lpSum([row['hyra']*location_choice[i, \"rent\"] + row['trafik_kostnad']*location_choice[i, \"rent\"] for i in locations]) <= 13000 \r\n",
        "print(prob)"
      ],
      "execution_count": 7,
      "outputs": [
        {
          "output_type": "stream",
          "text": [
            "Minimize_cost:\n",
            "MINIMIZE\n",
            "22800*location_choice_('Linköping',_'buy') + 22800*location_choice_('Linköping',_'rent') + 22800*location_choice_('Stockholm',_'buy') + 22800*location_choice_('Stockholm',_'rent') + 0\n",
            "SUBJECT TO\n",
            "_C1: 17000 location_choice_('Linköping',_'rent')\n",
            " + 17000 location_choice_('Stockholm',_'rent') <= 13000\n",
            "\n",
            "_C2: 16000 location_choice_('Linköping',_'rent')\n",
            " + 16000 location_choice_('Stockholm',_'rent') <= 13000\n",
            "\n",
            "VARIABLES\n",
            "0 <= location_choice_('Linköping',_'buy') <= 1 Integer\n",
            "0 <= location_choice_('Linköping',_'rent') <= 1 Integer\n",
            "0 <= location_choice_('Stockholm',_'buy') <= 1 Integer\n",
            "0 <= location_choice_('Stockholm',_'rent') <= 1 Integer\n",
            "\n"
          ],
          "name": "stdout"
        }
      ]
    },
    {
      "cell_type": "code",
      "metadata": {
        "colab": {
          "base_uri": "https://localhost:8080/"
        },
        "id": "fSpL2_4j_mdq",
        "outputId": "c2beac21-6933-4ab3-9c78-e4b0896a8749"
      },
      "source": [
        "decision_variables = []\r\n",
        "for rownum, row in df.iterrows():\r\n",
        "\tvariable = str('x' + str(rownum))\r\n",
        "\tvariable = pulp.LpVariable(str(variable), lowBound = 0, upBound = 1, cat= 'Integer') #make variables binary\r\n",
        "\tdecision_variables.append(variable)\r\n",
        "\r\n",
        "print (\"Total number of decision_variables: \" + str(len(decision_variables)))\r\n",
        "print (\"Array with Decision Variables:\" + str(decision_variables))"
      ],
      "execution_count": 7,
      "outputs": [
        {
          "output_type": "stream",
          "text": [
            "Total number of decision_variables: 2\n",
            "Array with Decision Variables:[x0, x1]\n"
          ],
          "name": "stdout"
        }
      ]
    },
    {
      "cell_type": "code",
      "metadata": {
        "colab": {
          "base_uri": "https://localhost:8080/"
        },
        "id": "QcbcVYr9_9pL",
        "outputId": "533a7e67-d03c-45e5-f7b0-d0c170de3877"
      },
      "source": [
        "# objective function\r\n",
        "total_cost = \"\"\r\n",
        "for rownum, row in df.iterrows():\r\n",
        "\tfor i, location in enumerate(decision_variables):\r\n",
        "\t\tif rownum == i:\r\n",
        "\t\t\tformula = row['hyra']*location + row['månadskostnad']*location + row['trafik_kostnad']*location\r\n",
        "\t\t\ttotal_cost += formula\r\n",
        "\r\n",
        "prob += total_cost\r\n",
        "print (\"Optimization function: \" + str(total_cost))"
      ],
      "execution_count": 8,
      "outputs": [
        {
          "output_type": "stream",
          "text": [
            "Optimization function: 24900*x0 + 22800*x1\n"
          ],
          "name": "stdout"
        }
      ]
    },
    {
      "cell_type": "code",
      "metadata": {
        "id": "KIb3cqExAkbn"
      },
      "source": [
        "budget = 13000\r\n",
        "total_cost_estimate = \"\"\r\n",
        "for rownum, row in df.iterrows():\r\n",
        "\tfor i, location in enumerate(decision_variables):\r\n",
        "\t\tif rownum == i:\r\n",
        "\t\t\tformula = row['hyra']*location + row['månadskostnad']*location + row['trafik_kostnad']*location\r\n",
        "\t\t\ttotal_cost_estimate += formula\r\n",
        "\r\n",
        "prob += (total_cost_estimate <= budget)"
      ],
      "execution_count": 9,
      "outputs": []
    },
    {
      "cell_type": "code",
      "metadata": {
        "id": "KQuQB7AGE7Fq"
      },
      "source": [
        "budge = 13000\r\n",
        "\r\n",
        "for location in locations:\r\n",
        "  for choice in buy_rent:\r\n",
        "    if choice == \"buy\":\r\n",
        "      # print(location)\r\n",
        "      # print(choice)\r\n",
        "      #print(x[location][choice] <= budget)\r\n",
        "      prob += (x[location][choice] <= budget)"
      ],
      "execution_count": null,
      "outputs": []
    },
    {
      "cell_type": "code",
      "metadata": {
        "colab": {
          "base_uri": "https://localhost:8080/"
        },
        "id": "kizDP8uYEDxm",
        "outputId": "275c0cd0-ce6d-456b-de4f-23bcf9588964"
      },
      "source": [
        "prob"
      ],
      "execution_count": 16,
      "outputs": [
        {
          "output_type": "execute_result",
          "data": {
            "text/plain": [
              "Minimize_cost:\n",
              "MINIMIZE\n",
              "49800*x0 + 45600*x1 + 0\n",
              "SUBJECT TO\n",
              "_C1: 238500 x1 <= 13000\n",
              "\n",
              "_C2: 24900 x0 + 22800 x1 <= 13000\n",
              "\n",
              "VARIABLES\n",
              "0 <= x0 <= 1 Integer\n",
              "0 <= x1 <= 1 Integer"
            ]
          },
          "metadata": {
            "tags": []
          },
          "execution_count": 16
        }
      ]
    },
    {
      "cell_type": "code",
      "metadata": {
        "colab": {
          "base_uri": "https://localhost:8080/"
        },
        "id": "GwAxUzZEjeKz",
        "outputId": "199b8cfd-1b3b-48cf-f00d-ecc13d389bbc"
      },
      "source": [
        "locations = df.index.values.tolist()\r\n",
        "locations"
      ],
      "execution_count": null,
      "outputs": [
        {
          "output_type": "execute_result",
          "data": {
            "text/plain": [
              "['linköping', 'stockholm']"
            ]
          },
          "metadata": {
            "tags": []
          },
          "execution_count": 3
        }
      ]
    },
    {
      "cell_type": "code",
      "metadata": {
        "id": "jiB6AnLikSOX"
      },
      "source": [
        "buy_rent = [\"buy\", \"rent\"]"
      ],
      "execution_count": null,
      "outputs": []
    },
    {
      "cell_type": "code",
      "metadata": {
        "colab": {
          "base_uri": "https://localhost:8080/"
        },
        "id": "a17QmVJsd4Gv",
        "outputId": "9524cecb-beee-4b97-d3a4-6e59dff452cd"
      },
      "source": [
        "# create decision variables\r\n",
        "x = LpVariable.dicts(\"x\", (locations, buy_rent), 0, 1, LpInteger)\r\n",
        "x"
      ],
      "execution_count": null,
      "outputs": [
        {
          "output_type": "execute_result",
          "data": {
            "text/plain": [
              "{'linköping': {'buy': x_linköping_buy, 'rent': x_linköping_rent},\n",
              " 'stockholm': {'buy': x_stockholm_buy, 'rent': x_stockholm_rent}}"
            ]
          },
          "metadata": {
            "tags": []
          },
          "execution_count": 6
        }
      ]
    },
    {
      "cell_type": "code",
      "metadata": {
        "id": "hJC31va2f7z7"
      },
      "source": [
        "location_buy_rent = 1\r\n",
        "for choice in buy_rent:\r\n",
        "    prob += (lpSum(x[location][choice] for location in locations) == location_buy_rent )\r\n",
        "# for location in locations:\r\n",
        "#     prob += (lpSum(x[choice][location] for choice in buy_rent) == location_buy_rent )"
      ],
      "execution_count": null,
      "outputs": []
    },
    {
      "cell_type": "code",
      "metadata": {
        "colab": {
          "base_uri": "https://localhost:8080/"
        },
        "id": "c1l3te8Ll-PP",
        "outputId": "9abafe63-1fce-49a4-a469-c46b63b4c976"
      },
      "source": [
        "print(prob)"
      ],
      "execution_count": 15,
      "outputs": [
        {
          "output_type": "stream",
          "text": [
            "Minimize_cost:\n",
            "MINIMIZE\n",
            "49800*x0 + 45600*x1 + 0\n",
            "SUBJECT TO\n",
            "_C1: 238500 x1 <= 13000\n",
            "\n",
            "_C2: 24900 x0 + 22800 x1 <= 13000\n",
            "\n",
            "VARIABLES\n",
            "0 <= x0 <= 1 Integer\n",
            "0 <= x1 <= 1 Integer\n",
            "\n"
          ],
          "name": "stdout"
        }
      ]
    },
    {
      "cell_type": "code",
      "metadata": {
        "colab": {
          "base_uri": "https://localhost:8080/"
        },
        "id": "hqOxl41PrgUZ",
        "outputId": "c554db47-ae38-4105-cd53-968d749802aa"
      },
      "source": [
        "budget = 1800000\r\n",
        "for location in locations:\r\n",
        "  for choice in buy_rent:\r\n",
        "      # print(location)\r\n",
        "      # print(choice)\r\n",
        "      print(x[location][choice] <= budget)"
      ],
      "execution_count": null,
      "outputs": [
        {
          "output_type": "stream",
          "text": [
            "x_linköping_buy <= 1800000\n",
            "x_linköping_rent <= 1800000\n",
            "x_stockholm_buy <= 1800000\n",
            "x_stockholm_rent <= 1800000\n"
          ],
          "name": "stdout"
        }
      ]
    },
    {
      "cell_type": "code",
      "metadata": {
        "id": "iwl6O48tgzAT"
      },
      "source": [
        "objective_terms = list()\r\n",
        "for location in locations:\r\n",
        "  for choice in buy_rent:\r\n",
        "      # print(location)\r\n",
        "      # print(choice)\r\n",
        "      objective_terms.append(x[location][choice])\r\n",
        "prob += pulp.lpSum(objective_terms)"
      ],
      "execution_count": null,
      "outputs": []
    },
    {
      "cell_type": "code",
      "metadata": {
        "colab": {
          "base_uri": "https://localhost:8080/"
        },
        "id": "wmwi4VTHtjVx",
        "outputId": "3e0b5af9-57d1-45d8-8475-6eca90c3b704"
      },
      "source": [
        "print(prob)"
      ],
      "execution_count": null,
      "outputs": [
        {
          "output_type": "stream",
          "text": [
            "Minimize_cost:\n",
            "MINIMIZE\n",
            "1*x_linköping_buy + 1*x_linköping_rent + 1*x_stockholm_buy + 1*x_stockholm_rent + 0\n",
            "SUBJECT TO\n",
            "_C1: x_linköping_buy + x_stockholm_buy = 1\n",
            "\n",
            "_C2: x_linköping_rent + x_stockholm_rent = 1\n",
            "\n",
            "VARIABLES\n",
            "0 <= x_linköping_buy <= 1 Integer\n",
            "0 <= x_linköping_rent <= 1 Integer\n",
            "0 <= x_stockholm_buy <= 1 Integer\n",
            "0 <= x_stockholm_rent <= 1 Integer\n",
            "\n"
          ],
          "name": "stdout"
        }
      ]
    },
    {
      "cell_type": "code",
      "metadata": {
        "id": "Aw0TZK3Ptn9q"
      },
      "source": [
        "budge = 1800000\r\n",
        "\r\n",
        "for location in locations:\r\n",
        "  for choice in buy_rent:\r\n",
        "    if choice == \"buy\":\r\n",
        "      # print(location)\r\n",
        "      # print(choice)\r\n",
        "      #print(x[location][choice] <= budget)\r\n",
        "      prob += (x[location][choice] <= budget)"
      ],
      "execution_count": null,
      "outputs": []
    },
    {
      "cell_type": "code",
      "metadata": {
        "colab": {
          "base_uri": "https://localhost:8080/"
        },
        "id": "TlE8o8jAuIr-",
        "outputId": "c91136b6-0629-4318-d9f2-f8493d642155"
      },
      "source": [
        "print(prob)"
      ],
      "execution_count": 11,
      "outputs": [
        {
          "output_type": "stream",
          "text": [
            "Minimize_cost:\n",
            "MINIMIZE\n",
            "24900*x0 + 22800*x1 + 0\n",
            "SUBJECT TO\n",
            "_C1: 24900 x0 + 22800 x1 <= 13000\n",
            "\n",
            "VARIABLES\n",
            "0 <= x0 <= 1 Integer\n",
            "0 <= x1 <= 1 Integer\n",
            "\n"
          ],
          "name": "stdout"
        }
      ]
    },
    {
      "cell_type": "code",
      "metadata": {
        "colab": {
          "base_uri": "https://localhost:8080/"
        },
        "id": "g_HEKa6TiMO4",
        "outputId": "dc8ace1e-a10e-4129-bd40-e0591eab505f"
      },
      "source": [
        "prob.solve()\r\n",
        "print(\"Status:\", LpStatus[prob.status])\r\n",
        "print(\"Optimal Solution to the problem: \", value(prob.objective))\r\n",
        "print (\"Individual decision_variables: \")\r\n",
        "for v in prob.variables():\r\n",
        "\tprint(v.name, \"=\", v.varValue)"
      ],
      "execution_count": 8,
      "outputs": [
        {
          "output_type": "stream",
          "text": [
            "Status: Optimal\n",
            "Optimal Solution to the problem:  0.0\n",
            "Individual decision_variables: \n",
            "location_choice_('Linköping',_'buy') = 0.0\n",
            "location_choice_('Linköping',_'rent') = 0.0\n",
            "location_choice_('Stockholm',_'buy') = 0.0\n",
            "location_choice_('Stockholm',_'rent') = 0.0\n"
          ],
          "name": "stdout"
        }
      ]
    },
    {
      "cell_type": "code",
      "metadata": {
        "id": "uNUuSbXdEmVx"
      },
      "source": [
        ""
      ],
      "execution_count": null,
      "outputs": []
    }
  ]
}