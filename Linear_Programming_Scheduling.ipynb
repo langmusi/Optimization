{
  "nbformat": 4,
  "nbformat_minor": 0,
  "metadata": {
    "colab": {
      "name": "Linear Programming Scheduling.ipynb",
      "provenance": [],
      "authorship_tag": "ABX9TyNIgmqBOZBOrjmfNGTz3t9C"
    },
    "kernelspec": {
      "name": "python3",
      "display_name": "Python 3"
    }
  },
  "cells": [
    {
      "cell_type": "code",
      "metadata": {
        "id": "Q7CMBXLxqoi_"
      },
      "source": [
        "#%pip install pulp\n",
        "import pulp"
      ],
      "execution_count": null,
      "outputs": []
    },
    {
      "cell_type": "markdown",
      "metadata": {
        "id": "Y7mMN6m6rLQE"
      },
      "source": [
        "## Example - Cashier Scheduler\n"
      ]
    },
    {
      "cell_type": "code",
      "metadata": {
        "id": "mJmyQ37ruhT9"
      },
      "source": [
        "import pandas as pd\n",
        "import numpy as np\n",
        "import pulp\n",
        "import matplotlib.pyplot as plt\n",
        "import matplotlib as mpl\n",
        "import itertools"
      ],
      "execution_count": null,
      "outputs": []
    },
    {
      "cell_type": "code",
      "metadata": {
        "colab": {
          "base_uri": "https://localhost:8080/"
        },
        "id": "4xByCQeCuvET",
        "outputId": "a6caa69e-12a1-4013-f52a-9377a9692155"
      },
      "source": [
        "# Initial data\n",
        "\n",
        "# Demand for labour\n",
        "\n",
        "demand_for_labor = \\\n",
        "    [[0, 0],\n",
        "     [1, 0],\n",
        "     [2, 0],\n",
        "     [3, 0],\n",
        "     [4, 0],\n",
        "     [5, 0],\n",
        "     [6, 0],\n",
        "     [7, 0],\n",
        "     [8, 0],\n",
        "     [9, 2],\n",
        "     [10, 4],\n",
        "     [11, 4],\n",
        "     [12, 3],\n",
        "     [13, 2],\n",
        "     [14, 3],\n",
        "     [15, 4],\n",
        "     [16, 5],\n",
        "     [17, 6],\n",
        "     [18, 6],\n",
        "     [19, 6],\n",
        "     [20, 6],\n",
        "     [21, 3],\n",
        "     [22, 2],\n",
        "     [23, 2]]\n",
        "demand_for_labor_df = pd.DataFrame(demand_for_labor, columns = ['hour', 'number'])\n",
        "print(demand_for_labor_df)"
      ],
      "execution_count": null,
      "outputs": [
        {
          "output_type": "stream",
          "text": [
            "    hour  number\n",
            "0      0       0\n",
            "1      1       0\n",
            "2      2       0\n",
            "3      3       0\n",
            "4      4       0\n",
            "5      5       0\n",
            "6      6       0\n",
            "7      7       0\n",
            "8      8       0\n",
            "9      9       2\n",
            "10    10       4\n",
            "11    11       4\n",
            "12    12       3\n",
            "13    13       2\n",
            "14    14       3\n",
            "15    15       4\n",
            "16    16       5\n",
            "17    17       6\n",
            "18    18       6\n",
            "19    19       6\n",
            "20    20       6\n",
            "21    21       3\n",
            "22    22       2\n",
            "23    23       2\n"
          ],
          "name": "stdout"
        }
      ]
    },
    {
      "cell_type": "code",
      "metadata": {
        "colab": {
          "base_uri": "https://localhost:8080/"
        },
        "id": "XKRO1jVwvUPD",
        "outputId": "76b6bf6b-f836-40ce-ac45-d810de535edc"
      },
      "source": [
        "    # the duration of the shift staff\n",
        "\n",
        "    workers = \\\n",
        "    [['Alan', 8],\n",
        "     ['Antony', 8],\n",
        "     ['Bob', 4],\n",
        "     ['Emma', 12],\n",
        "     ['Logan', 12],\n",
        "     ['Sophia', 12],\n",
        "     ['Abigail', 12]]\n",
        "workers_df = pd.DataFrame(workers, columns = ['worker', 'shift_duration'])\n",
        "print(workers_df)"
      ],
      "execution_count": null,
      "outputs": [
        {
          "output_type": "stream",
          "text": [
            "    worker  shift_duration\n",
            "0     Alan               8\n",
            "1   Antony               8\n",
            "2      Bob               4\n",
            "3     Emma              12\n",
            "4    Logan              12\n",
            "5   Sophia              12\n",
            "6  Abigail              12\n"
          ],
          "name": "stdout"
        }
      ]
    },
    {
      "cell_type": "code",
      "metadata": {
        "id": "W8CmNMAxwA8E"
      },
      "source": [
        "# staff costs\n",
        "# costs per man-shift\n",
        "staff_costs_per_shift = 100\n",
        "# costs per man-hour in addition to costs per man-shift\n",
        "staff_costs_per_hour = 25"
      ],
      "execution_count": null,
      "outputs": []
    },
    {
      "cell_type": "code",
      "metadata": {
        "colab": {
          "base_uri": "https://localhost:8080/",
          "height": 740
        },
        "id": "uzB2XZCawYGt",
        "outputId": "77677976-5249-45c5-f420-ab43b1537a61"
      },
      "source": [
        "# plots\n",
        "\n",
        "# Demand for Labor plot\n",
        "mpl.rcParams['figure.figsize'] = (15.0, 6.0)\n",
        "plt.bar(demand_for_labor_df.hour, demand_for_labor_df.number, width=1, alpha=0.5)\n",
        "plt.xlabel('Time, hour', fontsize=14)\n",
        "plt.ylabel('Number of Workers', fontsize=14)\n",
        "plt.title('Demand for Labor', fontsize=18)\n",
        "plt.yticks(fontsize=14)\n",
        "plt.xticks(fontsize=14)\n",
        "plt.grid(linestyle=':', linewidth=1)\n",
        "ax = plt.gca()\n",
        "ax.spines['top'].set_visible(False)\n",
        "ax.spines['bottom'].set_visible(True)\n",
        "ax.spines['right'].set_visible(False)\n",
        "ax.spines['left'].set_visible(True)\n",
        "plt.show()\n",
        "\n",
        "# The duration of the Shift Staff plot\n",
        "mpl.rcParams['figure.figsize'] = (10.0, 4.0)\n",
        "plt.barh(workers_df.worker, workers_df.shift_duration, height=0.85, left=0, color='C1', alpha=0.4)\n",
        "plt.xlabel('Shift Duration, hour', fontsize=14)\n",
        "plt.ylabel('Worker', fontsize=18)\n",
        "plt.title('The Duration of the Shift Staff', fontsize=18)\n",
        "plt.yticks(fontsize=14)\n",
        "plt.xticks(fontsize=14)\n",
        "plt.grid(axis='x', linestyle=':', linewidth=1)\n",
        "ax = plt.gca()\n",
        "ax.spines['top'].set_visible(False)\n",
        "ax.spines['bottom'].set_visible(True)\n",
        "ax.spines['right'].set_visible(False)\n",
        "ax.spines['left'].set_visible(True)\n",
        "ax.invert_yaxis() \n",
        "\n",
        "plt.show()\n",
        "\n",
        "print(f'Demand for labor: {sum(demand_for_labor_df.number)} man-hours')\n",
        "print(f'Available labor:  {sum(workers_df.shift_duration)} man-hours')\n",
        "\n",
        "\n"
      ],
      "execution_count": null,
      "outputs": [
        {
          "output_type": "display_data",
          "data": {
            "image/png": "[encoded data removed]",
            "text/plain": [
              "<Figure size 1080x432 with 1 Axes>"
            ]
          },
          "metadata": {
            "tags": [],
            "needs_background": "light"
          }
        },
        {
          "output_type": "display_data",
          "data": {
            "image/png": "[encoded data removed]",
            "text/plain": [
              "<Figure size 720x288 with 1 Axes>"
            ]
          },
          "metadata": {
            "tags": [],
            "needs_background": "light"
          }
        },
        {
          "output_type": "stream",
          "text": [
            "Demand for labor: 58 man-hours\n",
            "Available labor:  68 man-hours\n"
          ],
          "name": "stdout"
        }
      ]
    },
    {
      "cell_type": "code",
      "metadata": {
        "colab": {
          "base_uri": "https://localhost:8080/"
        },
        "id": "-2RGd-81yrQt",
        "outputId": "40f62c9f-1c9b-401f-860e-e2821e16871f"
      },
      "source": [
        "# creating auxilliary variables\n",
        "# possible shifts\n",
        "\n",
        "possible_shifts_list= \\\n",
        "     [{'worker':worker,  'hour_start':hour, 'hour':hour+l, 'working':True} \n",
        "       for worker in workers_df.worker.values\n",
        "       for hour in demand_for_labor_df.hour.values\n",
        "       for l in range(workers_df[workers_df.worker==worker].shift_duration.values[0])\n",
        "      ]\n",
        "possible_shifts = pd.DataFrame(possible_shifts_list)\n",
        "print(possible_shifts)"
      ],
      "execution_count": null,
      "outputs": [
        {
          "output_type": "stream",
          "text": [
            "       worker  hour_start  hour  working\n",
            "0        Alan           0     0     True\n",
            "1        Alan           0     1     True\n",
            "2        Alan           0     2     True\n",
            "3        Alan           0     3     True\n",
            "4        Alan           0     4     True\n",
            "...       ...         ...   ...      ...\n",
            "1627  Abigail          23    30     True\n",
            "1628  Abigail          23    31     True\n",
            "1629  Abigail          23    32     True\n",
            "1630  Abigail          23    33     True\n",
            "1631  Abigail          23    34     True\n",
            "\n",
            "[1632 rows x 4 columns]\n"
          ],
          "name": "stdout"
        }
      ]
    },
    {
      "cell_type": "code",
      "metadata": {
        "colab": {
          "base_uri": "https://localhost:8080/"
        },
        "id": "9fXVZvZnyv7j",
        "outputId": "b2b32acb-9b7e-45da-d55a-1710ae89c654"
      },
      "source": [
        "# worker index\n",
        "worker_index = [(worker, hour) for hour in demand_for_labor_df.hour.values for worker in workers_df.worker.values]\n",
        "print(worker_index)"
      ],
      "execution_count": null,
      "outputs": [
        {
          "output_type": "stream",
          "text": [
            "[('Alan', 0), ('Antony', 0), ('Bob', 0), ('Emma', 0), ('Logan', 0), ('Sophia', 0), ('Abigail', 0), ('Alan', 1), ('Antony', 1), ('Bob', 1), ('Emma', 1), ('Logan', 1), ('Sophia', 1), ('Abigail', 1), ('Alan', 2), ('Antony', 2), ('Bob', 2), ('Emma', 2), ('Logan', 2), ('Sophia', 2), ('Abigail', 2), ('Alan', 3), ('Antony', 3), ('Bob', 3), ('Emma', 3), ('Logan', 3), ('Sophia', 3), ('Abigail', 3), ('Alan', 4), ('Antony', 4), ('Bob', 4), ('Emma', 4), ('Logan', 4), ('Sophia', 4), ('Abigail', 4), ('Alan', 5), ('Antony', 5), ('Bob', 5), ('Emma', 5), ('Logan', 5), ('Sophia', 5), ('Abigail', 5), ('Alan', 6), ('Antony', 6), ('Bob', 6), ('Emma', 6), ('Logan', 6), ('Sophia', 6), ('Abigail', 6), ('Alan', 7), ('Antony', 7), ('Bob', 7), ('Emma', 7), ('Logan', 7), ('Sophia', 7), ('Abigail', 7), ('Alan', 8), ('Antony', 8), ('Bob', 8), ('Emma', 8), ('Logan', 8), ('Sophia', 8), ('Abigail', 8), ('Alan', 9), ('Antony', 9), ('Bob', 9), ('Emma', 9), ('Logan', 9), ('Sophia', 9), ('Abigail', 9), ('Alan', 10), ('Antony', 10), ('Bob', 10), ('Emma', 10), ('Logan', 10), ('Sophia', 10), ('Abigail', 10), ('Alan', 11), ('Antony', 11), ('Bob', 11), ('Emma', 11), ('Logan', 11), ('Sophia', 11), ('Abigail', 11), ('Alan', 12), ('Antony', 12), ('Bob', 12), ('Emma', 12), ('Logan', 12), ('Sophia', 12), ('Abigail', 12), ('Alan', 13), ('Antony', 13), ('Bob', 13), ('Emma', 13), ('Logan', 13), ('Sophia', 13), ('Abigail', 13), ('Alan', 14), ('Antony', 14), ('Bob', 14), ('Emma', 14), ('Logan', 14), ('Sophia', 14), ('Abigail', 14), ('Alan', 15), ('Antony', 15), ('Bob', 15), ('Emma', 15), ('Logan', 15), ('Sophia', 15), ('Abigail', 15), ('Alan', 16), ('Antony', 16), ('Bob', 16), ('Emma', 16), ('Logan', 16), ('Sophia', 16), ('Abigail', 16), ('Alan', 17), ('Antony', 17), ('Bob', 17), ('Emma', 17), ('Logan', 17), ('Sophia', 17), ('Abigail', 17), ('Alan', 18), ('Antony', 18), ('Bob', 18), ('Emma', 18), ('Logan', 18), ('Sophia', 18), ('Abigail', 18), ('Alan', 19), ('Antony', 19), ('Bob', 19), ('Emma', 19), ('Logan', 19), ('Sophia', 19), ('Abigail', 19), ('Alan', 20), ('Antony', 20), ('Bob', 20), ('Emma', 20), ('Logan', 20), ('Sophia', 20), ('Abigail', 20), ('Alan', 21), ('Antony', 21), ('Bob', 21), ('Emma', 21), ('Logan', 21), ('Sophia', 21), ('Abigail', 21), ('Alan', 22), ('Antony', 22), ('Bob', 22), ('Emma', 22), ('Logan', 22), ('Sophia', 22), ('Abigail', 22), ('Alan', 23), ('Antony', 23), ('Bob', 23), ('Emma', 23), ('Logan', 23), ('Sophia', 23), ('Abigail', 23)]\n"
          ],
          "name": "stdout"
        }
      ]
    },
    {
      "cell_type": "code",
      "metadata": {
        "colab": {
          "base_uri": "https://localhost:8080/"
        },
        "id": "DBiNdGxcw9EO",
        "outputId": "978656e3-a6ec-48ac-c7e5-e0f855223bb7"
      },
      "source": [
        "# adding workers start variables\n",
        "workers_start = pulp.LpVariable.dicts(\"workers_start\",\n",
        "                                      ((worker, hour) for hour in demand_for_labor_df.hour.values for worker in workers_df.worker.values),\n",
        "                                      lowBound=0,\n",
        "                                      cat='Binary')\n",
        "workers_start"
      ],
      "execution_count": null,
      "outputs": [
        {
          "output_type": "stream",
          "text": [
            "{('Alan', 0): workers_start_('Alan',_0), ('Antony', 0): workers_start_('Antony',_0), ('Bob', 0): workers_start_('Bob',_0), ('Emma', 0): workers_start_('Emma',_0), ('Logan', 0): workers_start_('Logan',_0), ('Sophia', 0): workers_start_('Sophia',_0), ('Abigail', 0): workers_start_('Abigail',_0), ('Alan', 1): workers_start_('Alan',_1), ('Antony', 1): workers_start_('Antony',_1), ('Bob', 1): workers_start_('Bob',_1), ('Emma', 1): workers_start_('Emma',_1), ('Logan', 1): workers_start_('Logan',_1), ('Sophia', 1): workers_start_('Sophia',_1), ('Abigail', 1): workers_start_('Abigail',_1), ('Alan', 2): workers_start_('Alan',_2), ('Antony', 2): workers_start_('Antony',_2), ('Bob', 2): workers_start_('Bob',_2), ('Emma', 2): workers_start_('Emma',_2), ('Logan', 2): workers_start_('Logan',_2), ('Sophia', 2): workers_start_('Sophia',_2), ('Abigail', 2): workers_start_('Abigail',_2), ('Alan', 3): workers_start_('Alan',_3), ('Antony', 3): workers_start_('Antony',_3), ('Bob', 3): workers_start_('Bob',_3), ('Emma', 3): workers_start_('Emma',_3), ('Logan', 3): workers_start_('Logan',_3), ('Sophia', 3): workers_start_('Sophia',_3), ('Abigail', 3): workers_start_('Abigail',_3), ('Alan', 4): workers_start_('Alan',_4), ('Antony', 4): workers_start_('Antony',_4), ('Bob', 4): workers_start_('Bob',_4), ('Emma', 4): workers_start_('Emma',_4), ('Logan', 4): workers_start_('Logan',_4), ('Sophia', 4): workers_start_('Sophia',_4), ('Abigail', 4): workers_start_('Abigail',_4), ('Alan', 5): workers_start_('Alan',_5), ('Antony', 5): workers_start_('Antony',_5), ('Bob', 5): workers_start_('Bob',_5), ('Emma', 5): workers_start_('Emma',_5), ('Logan', 5): workers_start_('Logan',_5), ('Sophia', 5): workers_start_('Sophia',_5), ('Abigail', 5): workers_start_('Abigail',_5), ('Alan', 6): workers_start_('Alan',_6), ('Antony', 6): workers_start_('Antony',_6), ('Bob', 6): workers_start_('Bob',_6), ('Emma', 6): workers_start_('Emma',_6), ('Logan', 6): workers_start_('Logan',_6), ('Sophia', 6): workers_start_('Sophia',_6), ('Abigail', 6): workers_start_('Abigail',_6), ('Alan', 7): workers_start_('Alan',_7), ('Antony', 7): workers_start_('Antony',_7), ('Bob', 7): workers_start_('Bob',_7), ('Emma', 7): workers_start_('Emma',_7), ('Logan', 7): workers_start_('Logan',_7), ('Sophia', 7): workers_start_('Sophia',_7), ('Abigail', 7): workers_start_('Abigail',_7), ('Alan', 8): workers_start_('Alan',_8), ('Antony', 8): workers_start_('Antony',_8), ('Bob', 8): workers_start_('Bob',_8), ('Emma', 8): workers_start_('Emma',_8), ('Logan', 8): workers_start_('Logan',_8), ('Sophia', 8): workers_start_('Sophia',_8), ('Abigail', 8): workers_start_('Abigail',_8), ('Alan', 9): workers_start_('Alan',_9), ('Antony', 9): workers_start_('Antony',_9), ('Bob', 9): workers_start_('Bob',_9), ('Emma', 9): workers_start_('Emma',_9), ('Logan', 9): workers_start_('Logan',_9), ('Sophia', 9): workers_start_('Sophia',_9), ('Abigail', 9): workers_start_('Abigail',_9), ('Alan', 10): workers_start_('Alan',_10), ('Antony', 10): workers_start_('Antony',_10), ('Bob', 10): workers_start_('Bob',_10), ('Emma', 10): workers_start_('Emma',_10), ('Logan', 10): workers_start_('Logan',_10), ('Sophia', 10): workers_start_('Sophia',_10), ('Abigail', 10): workers_start_('Abigail',_10), ('Alan', 11): workers_start_('Alan',_11), ('Antony', 11): workers_start_('Antony',_11), ('Bob', 11): workers_start_('Bob',_11), ('Emma', 11): workers_start_('Emma',_11), ('Logan', 11): workers_start_('Logan',_11), ('Sophia', 11): workers_start_('Sophia',_11), ('Abigail', 11): workers_start_('Abigail',_11), ('Alan', 12): workers_start_('Alan',_12), ('Antony', 12): workers_start_('Antony',_12), ('Bob', 12): workers_start_('Bob',_12), ('Emma', 12): workers_start_('Emma',_12), ('Logan', 12): workers_start_('Logan',_12), ('Sophia', 12): workers_start_('Sophia',_12), ('Abigail', 12): workers_start_('Abigail',_12), ('Alan', 13): workers_start_('Alan',_13), ('Antony', 13): workers_start_('Antony',_13), ('Bob', 13): workers_start_('Bob',_13), ('Emma', 13): workers_start_('Emma',_13), ('Logan', 13): workers_start_('Logan',_13), ('Sophia', 13): workers_start_('Sophia',_13), ('Abigail', 13): workers_start_('Abigail',_13), ('Alan', 14): workers_start_('Alan',_14), ('Antony', 14): workers_start_('Antony',_14), ('Bob', 14): workers_start_('Bob',_14), ('Emma', 14): workers_start_('Emma',_14), ('Logan', 14): workers_start_('Logan',_14), ('Sophia', 14): workers_start_('Sophia',_14), ('Abigail', 14): workers_start_('Abigail',_14), ('Alan', 15): workers_start_('Alan',_15), ('Antony', 15): workers_start_('Antony',_15), ('Bob', 15): workers_start_('Bob',_15), ('Emma', 15): workers_start_('Emma',_15), ('Logan', 15): workers_start_('Logan',_15), ('Sophia', 15): workers_start_('Sophia',_15), ('Abigail', 15): workers_start_('Abigail',_15), ('Alan', 16): workers_start_('Alan',_16), ('Antony', 16): workers_start_('Antony',_16), ('Bob', 16): workers_start_('Bob',_16), ('Emma', 16): workers_start_('Emma',_16), ('Logan', 16): workers_start_('Logan',_16), ('Sophia', 16): workers_start_('Sophia',_16), ('Abigail', 16): workers_start_('Abigail',_16), ('Alan', 17): workers_start_('Alan',_17), ('Antony', 17): workers_start_('Antony',_17), ('Bob', 17): workers_start_('Bob',_17), ('Emma', 17): workers_start_('Emma',_17), ('Logan', 17): workers_start_('Logan',_17), ('Sophia', 17): workers_start_('Sophia',_17), ('Abigail', 17): workers_start_('Abigail',_17), ('Alan', 18): workers_start_('Alan',_18), ('Antony', 18): workers_start_('Antony',_18), ('Bob', 18): workers_start_('Bob',_18), ('Emma', 18): workers_start_('Emma',_18), ('Logan', 18): workers_start_('Logan',_18), ('Sophia', 18): workers_start_('Sophia',_18), ('Abigail', 18): workers_start_('Abigail',_18), ('Alan', 19): workers_start_('Alan',_19), ('Antony', 19): workers_start_('Antony',_19), ('Bob', 19): workers_start_('Bob',_19), ('Emma', 19): workers_start_('Emma',_19), ('Logan', 19): workers_start_('Logan',_19), ('Sophia', 19): workers_start_('Sophia',_19), ('Abigail', 19): workers_start_('Abigail',_19), ('Alan', 20): workers_start_('Alan',_20), ('Antony', 20): workers_start_('Antony',_20), ('Bob', 20): workers_start_('Bob',_20), ('Emma', 20): workers_start_('Emma',_20), ('Logan', 20): workers_start_('Logan',_20), ('Sophia', 20): workers_start_('Sophia',_20), ('Abigail', 20): workers_start_('Abigail',_20), ('Alan', 21): workers_start_('Alan',_21), ('Antony', 21): workers_start_('Antony',_21), ('Bob', 21): workers_start_('Bob',_21), ('Emma', 21): workers_start_('Emma',_21), ('Logan', 21): workers_start_('Logan',_21), ('Sophia', 21): workers_start_('Sophia',_21), ('Abigail', 21): workers_start_('Abigail',_21), ('Alan', 22): workers_start_('Alan',_22), ('Antony', 22): workers_start_('Antony',_22), ('Bob', 22): workers_start_('Bob',_22), ('Emma', 22): workers_start_('Emma',_22), ('Logan', 22): workers_start_('Logan',_22), ('Sophia', 22): workers_start_('Sophia',_22), ('Abigail', 22): workers_start_('Abigail',_22), ('Alan', 23): workers_start_('Alan',_23), ('Antony', 23): workers_start_('Antony',_23), ('Bob', 23): workers_start_('Bob',_23), ('Emma', 23): workers_start_('Emma',_23), ('Logan', 23): workers_start_('Logan',_23), ('Sophia', 23): workers_start_('Sophia',_23), ('Abigail', 23): workers_start_('Abigail',_23)}\n"
          ],
          "name": "stdout"
        }
      ]
    },
    {
      "cell_type": "code",
      "metadata": {
        "colab": {
          "base_uri": "https://localhost:8080/"
        },
        "id": "1uGq1pXnxMxD",
        "outputId": "99ec9cfc-61dc-43a9-d597-f6c8f2357bb8"
      },
      "source": [
        "# adding workers status variables\n",
        "worker_status = pulp.LpVariable.dicts(\"worker_status\",\n",
        "                                      (worker for worker in workers_df.worker.values),\n",
        "                                      cat='Binary')\n",
        "worker_status"
      ],
      "execution_count": null,
      "outputs": [
        {
          "output_type": "execute_result",
          "data": {
            "text/plain": [
              "{'Abigail': worker_status_Abigail,\n",
              " 'Alan': worker_status_Alan,\n",
              " 'Antony': worker_status_Antony,\n",
              " 'Bob': worker_status_Bob,\n",
              " 'Emma': worker_status_Emma,\n",
              " 'Logan': worker_status_Logan,\n",
              " 'Sophia': worker_status_Sophia}"
            ]
          },
          "metadata": {
            "tags": []
          },
          "execution_count": 15
        }
      ]
    },
    {
      "cell_type": "code",
      "metadata": {
        "colab": {
          "base_uri": "https://localhost:8080/"
        },
        "id": "qgPwH_7DxYR1",
        "outputId": "a3ceee8e-7d71-40da-adfb-2f993264afa6"
      },
      "source": [
        "# cost minimising scheduling problem\n",
        "model = pulp.LpProblem(\"Cost minimising scheduling problem\", pulp.LpMinimize)\n",
        "model += pulp.lpSum(\n",
        "      [workers_start[worker, hour] * staff_costs_per_hour * workers_df[workers_df.worker==worker].shift_duration.values[0] for worker, hour in worker_index]\n",
        "    + [worker_status[worker] * staff_costs_per_shift for worker in workers_df.worker.values]\n",
        "      )"
      ],
      "execution_count": null,
      "outputs": [
        {
          "output_type": "stream",
          "text": [
            "/usr/local/lib/python3.6/dist-packages/pulp/pulp.py:1199: UserWarning: Spaces are not permitted in the name. Converted to '_'\n",
            "  warnings.warn(\"Spaces are not permitted in the name. Converted to '_'\")\n"
          ],
          "name": "stderr"
        }
      ]
    },
    {
      "cell_type": "code",
      "metadata": {
        "id": "-M1WRR6ixmhb"
      },
      "source": [
        "# adding the hard condition on the availability of staff in every hour during the day\n",
        "for hour_item in range(24):\n",
        "    model += \\\n",
        "        pulp.lpSum([possible_shifts[(possible_shifts.worker==worker) & \\\n",
        "                             (possible_shifts.hour_start==hour) & \\\n",
        "                             (possible_shifts.hour==hour_item)].working.values[0]*\\\n",
        "             workers_start[worker, hour]\n",
        "             for hour, worker in possible_shifts[possible_shifts.hour==hour_item][['hour_start', 'worker']].values])\\\n",
        "        >= demand_for_labor_df[demand_for_labor_df.hour==hour_item].number.values[0]"
      ],
      "execution_count": null,
      "outputs": []
    },
    {
      "cell_type": "code",
      "metadata": {
        "id": "BGrDCOytxzIa"
      },
      "source": [
        "# adding the hard condition on the number of employees\n",
        "for worker in workers_df.worker.values:\n",
        "    model +=  pulp.lpSum([workers_start[worker, hour] for hour in range(24)])<=\\\n",
        "        worker_status[worker]\n",
        "    model += \\\n",
        "        worker_status[worker]<=1"
      ],
      "execution_count": null,
      "outputs": []
    },
    {
      "cell_type": "markdown",
      "metadata": {
        "id": "7DxWa5vRyCQH"
      },
      "source": [
        "*Solving*  \n",
        "*Model Status and Minimum Cost*  "
      ]
    },
    {
      "cell_type": "code",
      "metadata": {
        "colab": {
          "base_uri": "https://localhost:8080/"
        },
        "id": "XcCIp1AdyAA6",
        "outputId": "348626a1-ab5d-4648-a562-8855a1804799"
      },
      "source": [
        "model.solve()\n",
        "print(f'Model Status: {pulp.LpStatus[model.status]}')\n",
        "print(f'Minimum Cost: {pulp.value(model.objective)}')"
      ],
      "execution_count": null,
      "outputs": [
        {
          "output_type": "stream",
          "text": [
            "Model Status: Optimal\n",
            "Minimum Cost: 2200.0\n"
          ],
          "name": "stdout"
        }
      ]
    },
    {
      "cell_type": "markdown",
      "metadata": {
        "id": "x9e0RQ_dyQSI"
      },
      "source": [
        "*Optimal shifts*\n"
      ]
    },
    {
      "cell_type": "code",
      "metadata": {
        "colab": {
          "base_uri": "https://localhost:8080/",
          "height": 235
        },
        "id": "UcV3T9PEyTAc",
        "outputId": "ec49bde2-400a-435d-dbc2-4a6c37f74d0b"
      },
      "source": [
        "output = []\n",
        "for worker, hour in workers_start:\n",
        "    if workers_start[(worker, hour)].varValue>0 and worker_status[(worker)].varValue>0:\n",
        "        var_output = {\n",
        "            'worker': worker,\n",
        "            'start_hour': hour,\n",
        "            'workers_start': workers_start[(worker, hour)].varValue,\n",
        "            'worker_status': worker_status[(worker)].varValue\n",
        "        }\n",
        "        output.append(var_output)\n",
        "\n",
        "output_df = pd.DataFrame(output).sort_values('worker')\n",
        "output_df"
      ],
      "execution_count": null,
      "outputs": [
        {
          "output_type": "execute_result",
          "data": {
            "text/html": [
              "<div>\n",
              "<style scoped>\n",
              "    .dataframe tbody tr th:only-of-type {\n",
              "        vertical-align: middle;\n",
              "    }\n",
              "\n",
              "    .dataframe tbody tr th {\n",
              "        vertical-align: top;\n",
              "    }\n",
              "\n",
              "    .dataframe thead th {\n",
              "        text-align: right;\n",
              "    }\n",
              "</style>\n",
              "<table border=\"1\" class=\"dataframe\">\n",
              "  <thead>\n",
              "    <tr style=\"text-align: right;\">\n",
              "      <th></th>\n",
              "      <th>worker</th>\n",
              "      <th>start_hour</th>\n",
              "      <th>workers_start</th>\n",
              "      <th>worker_status</th>\n",
              "    </tr>\n",
              "  </thead>\n",
              "  <tbody>\n",
              "    <tr>\n",
              "      <th>3</th>\n",
              "      <td>Abigail</td>\n",
              "      <td>10</td>\n",
              "      <td>1.0</td>\n",
              "      <td>1.0</td>\n",
              "    </tr>\n",
              "    <tr>\n",
              "      <th>4</th>\n",
              "      <td>Alan</td>\n",
              "      <td>16</td>\n",
              "      <td>1.0</td>\n",
              "      <td>1.0</td>\n",
              "    </tr>\n",
              "    <tr>\n",
              "      <th>5</th>\n",
              "      <td>Antony</td>\n",
              "      <td>16</td>\n",
              "      <td>1.0</td>\n",
              "      <td>1.0</td>\n",
              "    </tr>\n",
              "    <tr>\n",
              "      <th>2</th>\n",
              "      <td>Emma</td>\n",
              "      <td>10</td>\n",
              "      <td>1.0</td>\n",
              "      <td>1.0</td>\n",
              "    </tr>\n",
              "    <tr>\n",
              "      <th>0</th>\n",
              "      <td>Logan</td>\n",
              "      <td>9</td>\n",
              "      <td>1.0</td>\n",
              "      <td>1.0</td>\n",
              "    </tr>\n",
              "    <tr>\n",
              "      <th>1</th>\n",
              "      <td>Sophia</td>\n",
              "      <td>9</td>\n",
              "      <td>1.0</td>\n",
              "      <td>1.0</td>\n",
              "    </tr>\n",
              "  </tbody>\n",
              "</table>\n",
              "</div>"
            ],
            "text/plain": [
              "    worker  start_hour  workers_start  worker_status\n",
              "3  Abigail          10            1.0            1.0\n",
              "4     Alan          16            1.0            1.0\n",
              "5   Antony          16            1.0            1.0\n",
              "2     Emma          10            1.0            1.0\n",
              "0    Logan           9            1.0            1.0\n",
              "1   Sophia           9            1.0            1.0"
            ]
          },
          "metadata": {
            "tags": []
          },
          "execution_count": 21
        }
      ]
    },
    {
      "cell_type": "markdown",
      "metadata": {
        "id": "7CDHdw49ybNZ"
      },
      "source": [
        "Processing for plotting"
      ]
    },
    {
      "cell_type": "code",
      "metadata": {
        "id": "WtGtkIWHydx2"
      },
      "source": [
        "workers_result_df = workers_df.merge(output_df,\n",
        "                                     how='outer',\n",
        "                                     on='worker').fillna(0)\n",
        "workers_result_df = workers_result_df[workers_result_df.worker_status==1]"
      ],
      "execution_count": null,
      "outputs": []
    },
    {
      "cell_type": "code",
      "metadata": {
        "id": "2xW6MfG9yiLi"
      },
      "source": [
        "working_hours_list =  \\\n",
        "    [list(workers_result_df.loc[index, 'start_hour']+list(range(workers_result_df.loc[index, 'shift_duration']))) \n",
        "     for index in workers_result_df.index]\n",
        "working_hours_list = [item for sublist in working_hours_list for item in sublist]\n",
        "unique_elements, counts_elements = np.unique(working_hours_list, return_counts=True)\n",
        "working_hours_df = pd.DataFrame({'hour':unique_elements, 'number_exist':counts_elements})"
      ],
      "execution_count": null,
      "outputs": []
    },
    {
      "cell_type": "code",
      "metadata": {
        "id": "UxKmvzJZyi-T"
      },
      "source": [
        "demand_and_predict_for_labor_df = demand_for_labor_df.merge(\n",
        "                                      working_hours_df,\n",
        "                                      how='outer',\n",
        "                                      on='hour').fillna(0)"
      ],
      "execution_count": null,
      "outputs": []
    },
    {
      "cell_type": "code",
      "metadata": {
        "colab": {
          "base_uri": "https://localhost:8080/",
          "height": 857
        },
        "id": "N3bxhEn5ym0L",
        "outputId": "ccade2e5-d79e-4e78-9efa-a78e92c7eba4"
      },
      "source": [
        "# Demand for Labor and Optimal Shift Schedule plot\n",
        "mpl.rcParams['figure.figsize'] = (15, 6.0)\n",
        "plt.bar(demand_and_predict_for_labor_df.hour + 0.5, \n",
        "        demand_and_predict_for_labor_df.number_exist, \n",
        "        width=1, \n",
        "        color='C1',\n",
        "        alpha=0.4)\n",
        "plt.bar(demand_and_predict_for_labor_df.hour + 0.5, \n",
        "        demand_and_predict_for_labor_df.number, \n",
        "        width=1, \n",
        "        alpha=0.5)\n",
        "plt.xlabel('Time, hour', fontsize=14)\n",
        "plt.ylabel('Number of Workers', fontsize=14)\n",
        "plt.title('Demand for Labor and Optimal Shift Schedule', fontsize=18)\n",
        "plt.legend(['Optimal Shift Schedule','Demand for Labor'],loc=2, fontsize=14)\n",
        "plt.yticks(fontsize=14)\n",
        "plt.xticks([0, 6, 12, 18, 24], fontsize=14)\n",
        "plt.grid( linestyle=':', linewidth=1)\n",
        "ax = plt.gca()\n",
        "ax.spines['top'].set_visible(False)\n",
        "ax.spines['bottom'].set_visible(True)\n",
        "ax.spines['right'].set_visible(False)\n",
        "ax.spines['left'].set_visible(True)\n",
        "ax.set_xlim(0,24)\n",
        "plt.show()\n",
        "\n",
        "# Optimal Shift Schedule plot\n",
        "mpl.rcParams['figure.figsize'] = (15.0, 4.0)\n",
        "plt.barh(workers_result_df.worker, \n",
        "         workers_result_df.shift_duration, \n",
        "         height=0.85, \n",
        "         left=workers_result_df.start_hour,\n",
        "         color='C1',\n",
        "         alpha=0.4)\n",
        "plt.xlabel('Time, hour', fontsize=14)\n",
        "plt.ylabel('Worker', fontsize=14)\n",
        "plt.title('Optimal Shift Schedule', fontsize=18)\n",
        "plt.yticks(fontsize=14)\n",
        "plt.xticks([0, 6, 12, 18, 24], fontsize=14)\n",
        "plt.grid(axis='x', linestyle=':', linewidth=1)\n",
        "ax = plt.gca()\n",
        "ax.spines['top'].set_visible(False)\n",
        "ax.spines['bottom'].set_visible(True)\n",
        "ax.spines['right'].set_visible(False)\n",
        "ax.spines['left'].set_visible(True)\n",
        "ax.set_xlim(0,max(workers_result_df.shift_duration+workers_result_df.start_hour))\n",
        "ax.invert_yaxis() \n",
        "\n",
        "plt.show()\n",
        "\n",
        "# Free Staff plot\n",
        "mpl.rcParams['figure.figsize'] = (8.0, len(workers_df[~workers_df.worker.isin(workers_result_df.worker)])/2.0)\n",
        "plt.barh(workers_df[~workers_df.worker.isin(workers_result_df.worker)].worker, \n",
        "         workers_df[~workers_df.worker.isin(workers_result_df.worker)].shift_duration, \n",
        "         height=0.85, left=0, color='g', alpha=0.4)\n",
        "plt.xlabel('Shift Duration, hour', fontsize=14)\n",
        "plt.ylabel('Worker', fontsize=14)\n",
        "plt.title('Free Staff', fontsize=18)\n",
        "plt.yticks(fontsize=14)\n",
        "plt.xticks(range(0, 14,2), fontsize=14)\n",
        "plt.grid(axis='x', linestyle=':', linewidth=1)\n",
        "ax = plt.gca()\n",
        "ax.spines['top'].set_visible(False)\n",
        "ax.spines['bottom'].set_visible(True)\n",
        "ax.spines['right'].set_visible(False)\n",
        "ax.spines['left'].set_visible(True)\n",
        "ax.invert_yaxis() \n",
        "\n",
        "plt.show()\n",
        "\n",
        "print(f'Demand for labor: {sum(demand_for_labor_df.number)} man-hours')\n",
        "print(f'Available labor:  {sum(workers_df.shift_duration)} man-hours')\n",
        "print(f'Optimal labor:    {sum(workers_result_df.shift_duration)} man-hours')"
      ],
      "execution_count": null,
      "outputs": [
        {
          "output_type": "display_data",
          "data": {
            "image/png": "[encoded data removed]",
            "text/plain": [
              "<Figure size 1080x432 with 1 Axes>"
            ]
          },
          "metadata": {
            "tags": [],
            "needs_background": "light"
          }
        },
        {
          "output_type": "display_data",
          "data": {
            "image/png": "[encoded data removed]",
            "text/plain": [
              "<Figure size 1080x288 with 1 Axes>"
            ]
          },
          "metadata": {
            "tags": [],
            "needs_background": "light"
          }
        },
        {
          "output_type": "display_data",
          "data": {
            "image/png": "[encoded data removed]",
            "text/plain": [
              "<Figure size 576x36 with 1 Axes>"
            ]
          },
          "metadata": {
            "tags": [],
            "needs_background": "light"
          }
        },
        {
          "output_type": "stream",
          "text": [
            "Demand for labor: 58 man-hours\n",
            "Available labor:  68 man-hours\n",
            "Optimal labor:    64 man-hours\n"
          ],
          "name": "stdout"
        }
      ]
    }
  ]
}