{
  "nbformat": 4,
  "nbformat_minor": 0,
  "metadata": {
    "colab": {
      "name": "Discrete Optimization.ipynb",
      "provenance": [],
      "collapsed_sections": [],
      "toc_visible": true,
      "authorship_tag": "ABX9TyP4gzTWj4AvbGXbdDINbMcR"
    },
    "kernelspec": {
      "name": "python3",
      "display_name": "Python 3"
    }
  },
  "cells": [
    {
      "cell_type": "markdown",
      "metadata": {
        "id": "n2UQxrBMDNNQ"
      },
      "source": [
        "Pulp"
      ]
    },
    {
      "cell_type": "code",
      "metadata": {
        "colab": {
          "base_uri": "https://localhost:8080/"
        },
        "id": "ZJeEV3eXDSyM",
        "outputId": "b18158c2-aeab-46a0-ee0d-90365023eb25"
      },
      "source": [
        "!pip install pulp"
      ],
      "execution_count": null,
      "outputs": [
        {
          "output_type": "stream",
          "text": [
            "Requirement already satisfied: pulp in /usr/local/lib/python3.7/dist-packages (2.4)\n",
            "Requirement already satisfied: amply>=0.1.2 in /usr/local/lib/python3.7/dist-packages (from pulp) (0.1.4)\n",
            "Requirement already satisfied: docutils>=0.3 in /usr/local/lib/python3.7/dist-packages (from amply>=0.1.2->pulp) (0.16)\n",
            "Requirement already satisfied: pyparsing in /usr/local/lib/python3.7/dist-packages (from amply>=0.1.2->pulp) (2.4.7)\n"
          ],
          "name": "stdout"
        }
      ]
    },
    {
      "cell_type": "code",
      "metadata": {
        "id": "h_DPog1IDLDj"
      },
      "source": [
        "import pulp\n",
        "import pandas as pd"
      ],
      "execution_count": null,
      "outputs": []
    },
    {
      "cell_type": "markdown",
      "metadata": {
        "id": "XwtjNs7eFyHJ"
      },
      "source": [
        "## Maximization of Reward \n"
      ]
    },
    {
      "cell_type": "code",
      "metadata": {
        "colab": {
          "base_uri": "https://localhost:8080/",
          "height": 80
        },
        "id": "J7HFgisyFxjK",
        "outputId": "1c087247-837e-4138-df91-5e1d10d2b353"
      },
      "source": [
        "df = pd.DataFrame({\"Train\": [\"x91\"],\n",
        "                   \"SplitCode\": [21],\n",
        "                   \"2021-09-30\": [100],\n",
        "                   \"2021-10-01\": [50],\n",
        "                   \"2021-10-02\": [1000]})\n",
        "df"
      ],
      "execution_count": null,
      "outputs": [
        {
          "output_type": "execute_result",
          "data": {
            "text/html": [
              "<div>\n",
              "<style scoped>\n",
              "    .dataframe tbody tr th:only-of-type {\n",
              "        vertical-align: middle;\n",
              "    }\n",
              "\n",
              "    .dataframe tbody tr th {\n",
              "        vertical-align: top;\n",
              "    }\n",
              "\n",
              "    .dataframe thead th {\n",
              "        text-align: right;\n",
              "    }\n",
              "</style>\n",
              "<table border=\"1\" class=\"dataframe\">\n",
              "  <thead>\n",
              "    <tr style=\"text-align: right;\">\n",
              "      <th></th>\n",
              "      <th>Train</th>\n",
              "      <th>SplitCode</th>\n",
              "      <th>2021-09-30</th>\n",
              "      <th>2021-10-01</th>\n",
              "      <th>2021-10-02</th>\n",
              "    </tr>\n",
              "  </thead>\n",
              "  <tbody>\n",
              "    <tr>\n",
              "      <th>0</th>\n",
              "      <td>x91</td>\n",
              "      <td>21</td>\n",
              "      <td>100</td>\n",
              "      <td>50</td>\n",
              "      <td>1000</td>\n",
              "    </tr>\n",
              "  </tbody>\n",
              "</table>\n",
              "</div>"
            ],
            "text/plain": [
              "  Train  SplitCode  2021-09-30  2021-10-01  2021-10-02\n",
              "0   x91         21         100          50        1000"
            ]
          },
          "metadata": {
            "tags": []
          },
          "execution_count": 3
        }
      ]
    },
    {
      "cell_type": "code",
      "metadata": {
        "colab": {
          "base_uri": "https://localhost:8080/"
        },
        "id": "MpBbyGPQ51FH",
        "outputId": "f68fc22f-0d07-4a1c-def3-1165bdec430e"
      },
      "source": [
        "choose_or_not_date = [\"2021-09-30\", \"2021-10-01\", \"2021-10-02\"]\n",
        "choose_or_not_date"
      ],
      "execution_count": null,
      "outputs": [
        {
          "output_type": "execute_result",
          "data": {
            "text/plain": [
              "['2021-09-30', '2021-10-01', '2021-10-02']"
            ]
          },
          "metadata": {
            "tags": []
          },
          "execution_count": 4
        }
      ]
    },
    {
      "cell_type": "code",
      "metadata": {
        "colab": {
          "base_uri": "https://localhost:8080/"
        },
        "id": "Ia0tSiaU3KV6",
        "outputId": "145eaf70-2d09-4685-d86f-80d0c7cb7a8e"
      },
      "source": [
        "prob = pulp.LpProblem(\"Reward_Maintenance\", pulp.LpMaximize)\n",
        "prob"
      ],
      "execution_count": null,
      "outputs": [
        {
          "output_type": "execute_result",
          "data": {
            "text/plain": [
              "Reward_Maintenance:\n",
              "MAXIMIZE\n",
              "None\n",
              "VARIABLES"
            ]
          },
          "metadata": {
            "tags": []
          },
          "execution_count": 5
        }
      ]
    },
    {
      "cell_type": "code",
      "metadata": {
        "id": "s7H-NCts3as3"
      },
      "source": [
        "x = pulp.LpVariable.dicts(\"x\", choose_or_not_date, 0, 1, pulp.LpInteger)"
      ],
      "execution_count": null,
      "outputs": []
    },
    {
      "cell_type": "code",
      "metadata": {
        "colab": {
          "base_uri": "https://localhost:8080/"
        },
        "id": "KIxc2kg-6ScQ",
        "outputId": "b7d890cc-fa39-4c98-a6c7-92e7603d2047"
      },
      "source": [
        "x"
      ],
      "execution_count": null,
      "outputs": [
        {
          "output_type": "execute_result",
          "data": {
            "text/plain": [
              "{'2021-09-30': x_2021_09_30,\n",
              " '2021-10-01': x_2021_10_01,\n",
              " '2021-10-02': x_2021_10_02}"
            ]
          },
          "metadata": {
            "tags": []
          },
          "execution_count": 7
        }
      ]
    },
    {
      "cell_type": "code",
      "metadata": {
        "id": "-BftxvWd7sK5"
      },
      "source": [
        "reward = [100, 50, 1000]"
      ],
      "execution_count": null,
      "outputs": []
    },
    {
      "cell_type": "code",
      "metadata": {
        "id": "gk2OuiTa6WX-"
      },
      "source": [
        "prob += pulp.lpSum(\n",
        "    [x[date] * reward_date for date in choose_or_not_date for reward_date in reward])"
      ],
      "execution_count": null,
      "outputs": []
    },
    {
      "cell_type": "code",
      "metadata": {
        "colab": {
          "base_uri": "https://localhost:8080/"
        },
        "id": "iy-1QtDU9Yyi",
        "outputId": "1cdc1446-3680-4b11-9172-0c7d080cf05a"
      },
      "source": [
        "prob"
      ],
      "execution_count": null,
      "outputs": [
        {
          "output_type": "execute_result",
          "data": {
            "text/plain": [
              "Reward_Maintenance:\n",
              "MAXIMIZE\n",
              "1150*x_2021_09_30 + 1150*x_2021_10_01 + 1150*x_2021_10_02 + 0\n",
              "VARIABLES\n",
              "0 <= x_2021_09_30 <= 1 Integer\n",
              "0 <= x_2021_10_01 <= 1 Integer\n",
              "0 <= x_2021_10_02 <= 1 Integer"
            ]
          },
          "metadata": {
            "tags": []
          },
          "execution_count": 10
        }
      ]
    },
    {
      "cell_type": "code",
      "metadata": {
        "colab": {
          "base_uri": "https://localhost:8080/"
        },
        "id": "Zn0hbTqL9cHm",
        "outputId": "a606db34-95f6-42af-fc90-03facc587866"
      },
      "source": [
        "# constraints\n",
        "prob += pulp.lpSum(\n",
        "    [x[date] for date in choose_or_not_date]) <= 1\n",
        "prob"
      ],
      "execution_count": null,
      "outputs": [
        {
          "output_type": "execute_result",
          "data": {
            "text/plain": [
              "Reward_Maintenance:\n",
              "MAXIMIZE\n",
              "1150*x_2021_09_30 + 1150*x_2021_10_01 + 1150*x_2021_10_02 + 0\n",
              "SUBJECT TO\n",
              "_C1: x_2021_09_30 + x_2021_10_01 + x_2021_10_02 <= 1\n",
              "\n",
              "VARIABLES\n",
              "0 <= x_2021_09_30 <= 1 Integer\n",
              "0 <= x_2021_10_01 <= 1 Integer\n",
              "0 <= x_2021_10_02 <= 1 Integer"
            ]
          },
          "metadata": {
            "tags": []
          },
          "execution_count": 11
        }
      ]
    },
    {
      "cell_type": "code",
      "metadata": {
        "colab": {
          "base_uri": "https://localhost:8080/"
        },
        "id": "xFTWe-GM-NkZ",
        "outputId": "c07a9664-08e5-4982-ce63-42d08675416e"
      },
      "source": [
        "%time prob.solve()"
      ],
      "execution_count": null,
      "outputs": [
        {
          "output_type": "stream",
          "text": [
            "CPU times: user 1.48 ms, sys: 4.11 ms, total: 5.59 ms\n",
            "Wall time: 21 ms\n"
          ],
          "name": "stdout"
        },
        {
          "output_type": "execute_result",
          "data": {
            "text/plain": [
              "1"
            ]
          },
          "metadata": {
            "tags": []
          },
          "execution_count": 14
        }
      ]
    },
    {
      "cell_type": "code",
      "metadata": {
        "colab": {
          "base_uri": "https://localhost:8080/"
        },
        "id": "4qKixR5E_JD0",
        "outputId": "11db5695-8a8d-490d-e889-b3f4766f0585"
      },
      "source": [
        "print(pulp.LpStatus[prob.status])"
      ],
      "execution_count": null,
      "outputs": [
        {
          "output_type": "stream",
          "text": [
            "Optimal\n"
          ],
          "name": "stdout"
        }
      ]
    },
    {
      "cell_type": "code",
      "metadata": {
        "colab": {
          "base_uri": "https://localhost:8080/"
        },
        "id": "tJPhs3vq_RPG",
        "outputId": "742751ec-852a-4a37-b217-263de3d5fece"
      },
      "source": [
        "for v in prob.variables():\n",
        "    print(v, v.varValue)"
      ],
      "execution_count": null,
      "outputs": [
        {
          "output_type": "stream",
          "text": [
            "x_2021_09_30 0.0\n",
            "x_2021_10_01 0.0\n",
            "x_2021_10_02 1.0\n"
          ],
          "name": "stdout"
        }
      ]
    },
    {
      "cell_type": "markdown",
      "metadata": {
        "id": "Xg2yUvfOdmKi"
      },
      "source": [
        "## Wedding Tables Assignment\n",
        "\n",
        "Maximise the total happiness of all of the tables."
      ]
    },
    {
      "cell_type": "code",
      "metadata": {
        "id": "PNgfAIYSdlIf"
      },
      "source": [
        "#create list of all possible tables\n",
        "max_tables = 5\n",
        "max_table_size = 4\n",
        "guests = 'A B C D E F G I J K L M N O P Q R'.split()\n",
        "\n",
        "possible_tables = [tuple(c) for c in pulp.allcombinations(guests, \n",
        "                                        max_table_size)]\n",
        "#possible_tables"
      ],
      "execution_count": null,
      "outputs": []
    },
    {
      "cell_type": "code",
      "metadata": {
        "id": "dxQ5xA4oeV6f"
      },
      "source": [
        "#create a binary variable to state that a table setting is used\n",
        "x = pulp.LpVariable.dicts('table', possible_tables, \n",
        "                            lowBound = 0,\n",
        "                            upBound = 1,\n",
        "                            cat = pulp.LpInteger)"
      ],
      "execution_count": null,
      "outputs": []
    },
    {
      "cell_type": "code",
      "metadata": {
        "id": "jknDVWvGe41c"
      },
      "source": [
        "# x"
      ],
      "execution_count": null,
      "outputs": []
    },
    {
      "cell_type": "code",
      "metadata": {
        "colab": {
          "base_uri": "https://localhost:8080/"
        },
        "id": "p6NppB2PeiZA",
        "outputId": "ee56b9cf-d6fa-4c0e-f8a5-19774f1ebf35"
      },
      "source": [
        "# objective function\n",
        "seating_model = pulp.LpProblem(\"Wedding Seating Model\", pulp.LpMinimize)"
      ],
      "execution_count": null,
      "outputs": [
        {
          "output_type": "stream",
          "text": [
            "/usr/local/lib/python3.7/dist-packages/pulp/pulp.py:1199: UserWarning: Spaces are not permitted in the name. Converted to '_'\n",
            "  warnings.warn(\"Spaces are not permitted in the name. Converted to '_'\")\n"
          ],
          "name": "stderr"
        }
      ]
    },
    {
      "cell_type": "code",
      "metadata": {
        "colab": {
          "base_uri": "https://localhost:8080/"
        },
        "id": "hamwzBtYemy-",
        "outputId": "1a120fd2-b184-4ca1-9f1c-648f21872dfa"
      },
      "source": [
        "seating_model"
      ],
      "execution_count": null,
      "outputs": [
        {
          "output_type": "execute_result",
          "data": {
            "text/plain": [
              "Wedding_Seating_Model:\n",
              "MINIMIZE\n",
              "None\n",
              "VARIABLES"
            ]
          },
          "metadata": {
            "tags": []
          },
          "execution_count": 9
        }
      ]
    },
    {
      "cell_type": "code",
      "metadata": {
        "id": "CQD7pmq-epbH"
      },
      "source": [
        "def happiness(table):\n",
        "    \"\"\"\n",
        "    Find the happiness of the table\n",
        "    - by calculating the maximum distance between the letters\n",
        "    \"\"\"\n",
        "    return abs(ord(table[0]) - ord(table[-1]))"
      ],
      "execution_count": null,
      "outputs": []
    },
    {
      "cell_type": "code",
      "metadata": {
        "id": "2mwPgLMie0OO"
      },
      "source": [
        "seating_model += pulp.lpSum([happiness(table) * x[table] for table in possible_tables])"
      ],
      "execution_count": null,
      "outputs": []
    },
    {
      "cell_type": "code",
      "metadata": {
        "id": "_NaxZTbe5ldV"
      },
      "source": [
        "# seating_model"
      ],
      "execution_count": null,
      "outputs": []
    },
    {
      "cell_type": "code",
      "metadata": {
        "id": "CHJ5dTVDfj19"
      },
      "source": [
        "#specify the maximum number of tables\n",
        "seating_model += pulp.lpSum([x[table] for table in possible_tables]) <= max_tables, \\\n",
        "                            \"Maximum_number_of_tables\""
      ],
      "execution_count": null,
      "outputs": []
    },
    {
      "cell_type": "code",
      "metadata": {
        "id": "1EjakZ6rfq2S"
      },
      "source": [
        "#A guest must seated at one and only one table\n",
        "for guest in guests:\n",
        "    seating_model += pulp.lpSum([x[table] for table in possible_tables\n",
        "                                if guest in table]) == 1, \"Must_seat_%s\"%guest"
      ],
      "execution_count": null,
      "outputs": []
    },
    {
      "cell_type": "code",
      "metadata": {
        "colab": {
          "base_uri": "https://localhost:8080/"
        },
        "id": "_Tpr-OTcf5ir",
        "outputId": "5f9b87cd-1708-42c2-8d7b-3ad913ef3b0f"
      },
      "source": [
        "seating_model.solve()"
      ],
      "execution_count": null,
      "outputs": [
        {
          "output_type": "execute_result",
          "data": {
            "text/plain": [
              "1"
            ]
          },
          "metadata": {
            "tags": []
          },
          "execution_count": 23
        }
      ]
    },
    {
      "cell_type": "code",
      "metadata": {
        "colab": {
          "base_uri": "https://localhost:8080/"
        },
        "id": "2ejdvf5XgBAO",
        "outputId": "b5c4fb7e-8a62-48a4-caad-1034c5013ed7"
      },
      "source": [
        "print(\"The choosen tables are out of a total of %s:\" %len(possible_tables))\n",
        "for table in possible_tables:\n",
        "    if x[table].value() == 1.0:\n",
        "        print(table)"
      ],
      "execution_count": null,
      "outputs": [
        {
          "output_type": "stream",
          "text": [
            "The choosen tables are out of a total of 3213:\n",
            "('M', 'N')\n",
            "('E', 'F', 'G')\n",
            "('A', 'B', 'C', 'D')\n",
            "('I', 'J', 'K', 'L')\n",
            "('O', 'P', 'Q', 'R')\n"
          ],
          "name": "stdout"
        }
      ]
    },
    {
      "cell_type": "markdown",
      "metadata": {
        "id": "rL4PsiMyFAmX"
      },
      "source": [
        "http://www.optimization-online.org/DB_FILE/2011/09/3178.pdf"
      ]
    },
    {
      "cell_type": "code",
      "metadata": {
        "id": "mXyDzg1UDYfP"
      },
      "source": [
        "require = {1:7, 2:5, 3:3, 4:2, 5:2}\n",
        "products = [1, 2, 3, 4, 5]\n",
        "locations = [1, 2, 3, 4, 5]\n",
        "capacity = 8"
      ],
      "execution_count": null,
      "outputs": []
    },
    {
      "cell_type": "code",
      "metadata": {
        "id": "J8aSjSByDo0B"
      },
      "source": [
        "prob = pulp.LpProblem(\"FacilityLocation\", pulp.LpMinimize)"
      ],
      "execution_count": null,
      "outputs": []
    },
    {
      "cell_type": "code",
      "metadata": {
        "id": "5aQwcdMhD3cr"
      },
      "source": [
        "use_vars = pulp.LpVariable.dicts(\"UseLocation\", locations, 0, 1, pulp.LpBinary)\n",
        "use_vars"
      ],
      "execution_count": null,
      "outputs": []
    },
    {
      "cell_type": "code",
      "metadata": {
        "id": "6Rnl99hxEHmB"
      },
      "source": [
        "waste_vars = pulp.LpVariable.dicts(\"Waste\", locations, 0, capacity)\n",
        "waste_vars"
      ],
      "execution_count": null,
      "outputs": []
    },
    {
      "cell_type": "code",
      "metadata": {
        "id": "PXgACDplEalN"
      },
      "source": [
        "assign_vars = pulp.LpVariable.dicts(\"AtLocation\", \n",
        "                                    [(i, j) for i in locations\n",
        "                                            for j in products],\n",
        "                                    0, 1, pulp.LpBinary)\n",
        "assign_vars"
      ],
      "execution_count": null,
      "outputs": []
    },
    {
      "cell_type": "code",
      "metadata": {
        "id": "qRHg9YXSE6XU"
      },
      "source": [
        "# objective function\n",
        "prob += pulp.lpSum(waste_vars[i] for i in locations)\n",
        "print(prob)"
      ],
      "execution_count": null,
      "outputs": []
    },
    {
      "cell_type": "code",
      "metadata": {
        "id": "D3WXjQC_FRTq"
      },
      "source": [
        "for j in products:\n",
        "  prob += pulp.lpSum(assign_vars[(i, j)] for i in locations) == 1\n",
        "print(prob)"
      ],
      "execution_count": null,
      "outputs": []
    },
    {
      "cell_type": "markdown",
      "metadata": {
        "id": "zfujo070yebx"
      },
      "source": [
        "It’s worth mentioning that almost all widely used linear programming and mixed-integer linear programming libraries are native to and written in Fortran or C or C++. This is because linear programming requires computationally intensive work with (often large) matrices. Such libraries are called solvers. The Python tools are just wrappers around the solvers.\n",
        "\n",
        "Several free Python libraries are specialized to interact with linear or mixed-integer linear programming solvers:\n",
        "\n",
        "- SciPy Optimization and Root Finding  \n",
        "- PuLP  \n",
        "- Pyomo  \n",
        "- CVXOPT"
      ]
    },
    {
      "cell_type": "markdown",
      "metadata": {
        "id": "OP59tLLJy63A"
      },
      "source": [
        "## Small Linear Programming Problem\n",
        "\n",
        "MAX z = x + 2y  \n",
        "subject to  \n",
        "$2x + y \\leq 20$  \n",
        "$-4x + 5y \\leq 10$  \n",
        "$-x +2y \\geq -2$  \n",
        "$x \\geq 0$  \n",
        "$y \\geq 0$  \n",
        "\n",
        "x, y - decision variables  \n",
        "the function of decision variables to be maximized/minimized, z - the objective funciton /the cost function  \n",
        "constraints - inequality  \n",
        "--> feasible region - feasible solutions  \n",
        "\n",
        "You want to maximize z. The feasible solution that corresponds to maximal z is the *optimal solution*. \n"
      ]
    },
    {
      "cell_type": "markdown",
      "metadata": {
        "id": "Ftyl_NnJ0xpg"
      },
      "source": [
        "A linear programming problem is infeasible if it does not have a solution. This usually happens when no solution can satisfy all constraints at once.\n",
        "\n",
        "A linear programming problem is unbounded if its feasible region isn't bounded and the solution is not finite.\n",
        "\n",
        "Dropping constraints out of a problem --> relaxing the problem."
      ]
    },
    {
      "cell_type": "markdown",
      "metadata": {
        "id": "xFoezjVu1XYl"
      },
      "source": [
        "## Resource Allocation Problem\n",
        "\n",
        "Say that a factory produces four different products, and that the daily produced amount of the first product is x₁, the amount produced of the second product is x₂, and so on. The goal is to determine the profit-maximizing daily production amount for each product, bearing in mind the following conditions:\n",
        "\n",
        "1. The profit per unit of product is $20, $12, $40, and $25 for the first, second, third, and fourth product, respectively.\n",
        "\n",
        "2. Due to manpower constraints, the total number of units produced per day can’t exceed fifty.\n",
        "\n",
        "3. For each unit of the first product, three units of the raw material A are consumed. Each unit of the second product requires two units of the raw material A and one unit of the raw material B. Each unit of the third product needs one unit of A and two units of B. Finally, each unit of the fourth product requires three units of B.\n",
        "\n",
        "4. Due to the transportation and storage constraints, the factory can consume up to one hundred units of the raw material A and ninety units of B per day."
      ]
    },
    {
      "cell_type": "markdown",
      "metadata": {
        "id": "7LjxCqNN-p7D"
      },
      "source": [
        "### Using Scipy\n",
        "\n",
        "for small problems"
      ]
    },
    {
      "cell_type": "code",
      "metadata": {
        "id": "mXsI6AKXw0Oz"
      },
      "source": [
        "from scipy.optimize import linprog"
      ],
      "execution_count": null,
      "outputs": []
    },
    {
      "cell_type": "markdown",
      "metadata": {
        "id": "XAfDpzWE4RYN"
      },
      "source": [
        "*Example*\n",
        "\n",
        "MIN -z = -x -2y  \n",
        "subject to  \n",
        "$2x + y \\leq 20$  \n",
        "$-4x + 5y \\leq 10$  \n",
        "$x -2y \\leq 2$  \n",
        "$-x + 5y = 15$  \n",
        "$x \\geq 0$  \n",
        "$y \\geq 0$ "
      ]
    },
    {
      "cell_type": "code",
      "metadata": {
        "id": "0N7NydES4v4q"
      },
      "source": [
        "obj = (-1, -2)  # coefficients for x and y\n",
        "lhs_ineq = [[2, 1],\n",
        "            [-4, 5],\n",
        "            [1, -2]]\n",
        "lhs_eq = [[-1, 5]]\n",
        "rhs_ineq = [20,\n",
        "            10,\n",
        "            2]\n",
        "rhs_eq = [15]"
      ],
      "execution_count": null,
      "outputs": []
    },
    {
      "cell_type": "code",
      "metadata": {
        "id": "wWujUTNL5YpO"
      },
      "source": [
        "bnd = [(0, float(\"inf\")),    # bounds of x, y\n",
        "       (0, float(\"inf\"))]"
      ],
      "execution_count": null,
      "outputs": []
    },
    {
      "cell_type": "markdown",
      "metadata": {
        "id": "N3htzwbg6GQt"
      },
      "source": [
        "The statement above is redundant because linprog() takes these bounds (zero to positive infinity) by default."
      ]
    },
    {
      "cell_type": "code",
      "metadata": {
        "id": "5JZ5tuw36WDp"
      },
      "source": [
        "opt = linprog(c = obj, A_ub = lhs_ineq, b_ub = rhs_ineq, A_eq = lhs_eq, b_eq = rhs_eq, bounds = bnd, method = \"revised simplex\")\n",
        "opt"
      ],
      "execution_count": null,
      "outputs": []
    },
    {
      "cell_type": "markdown",
      "metadata": {
        "id": "2xssQCCl7AY1"
      },
      "source": [
        "c : the coefficients from the objective function  \n",
        "A_ub, b_ub : the coefficients from the left and right sides of the  inequality constraints.  \n",
        "\n",
        "method = \"interior-point : selects the interior-point method. Default.\n",
        "\n",
        "method = \"revised simplex\" : the revised two-phase simplex method.\n",
        "\n",
        "method = \"simplex\" : two-phase simplex method.\n"
      ]
    },
    {
      "cell_type": "code",
      "metadata": {
        "id": "Sp8c-xfX7ty-"
      },
      "source": [
        "print(opt.fun)\n",
        "print(opt.x)"
      ],
      "execution_count": null,
      "outputs": []
    },
    {
      "cell_type": "markdown",
      "metadata": {
        "id": "Q908xP078H-G"
      },
      "source": [
        "*Example*  \n",
        "MAX $20x_1 + 12x_2 + 40x_3 + 25x_4$ (profit)  \n",
        "s.t.  \n",
        "$x_1 + x_2 + x_3 + x_4 \\leq 50$  (manpower)  \n",
        "$3x_1 + 2x_2 + x_3 \\leq 100$  (material A)  \n",
        "$x_2 + 2x_3 + 3x_4 \\leq 90$  (material B)  \n",
        "$x_1, x_2, x_3, x_4 \\geq 0$\n",
        "\n"
      ]
    },
    {
      "cell_type": "code",
      "metadata": {
        "id": "0eXTHLnY85iw"
      },
      "source": [
        "obj = [-20, -12, -40, -25]\n",
        "lhs_ineq = [[1, 1, 1, 1],\n",
        "            [3, 2, 1, 0],\n",
        "            [0, 1, 2, 3]]\n",
        "rhs_ineq = [50, 100, 90]\n",
        "opt = linprog(c = obj, A_ub = lhs_ineq, b_ub = rhs_ineq, method = \"revised simplex\")\n",
        "opt"
      ],
      "execution_count": null,
      "outputs": []
    },
    {
      "cell_type": "markdown",
      "metadata": {
        "id": "kO8qcpvf9kkH"
      },
      "source": [
        "The first slack = 0: the values of the left and right sides of the manpower constraint are the same. The factory produces 50 units per day and this is its full capacity.  \n",
        "The second slack = 40: the factory consumes 60 unites of raw material A out of a potential 100 units.  \n",
        "The third slack = 0: the factory consumes all 90 units of the raw material B. This is why the factory can not produce the second or fourth product at all, can't produce more than 45 unites of the third product. It lacks the raw material B."
      ]
    },
    {
      "cell_type": "code",
      "metadata": {
        "id": "7mOtpYU_-ka4"
      },
      "source": [
        "### Using PulP"
      ],
      "execution_count": null,
      "outputs": []
    },
    {
      "cell_type": "code",
      "metadata": {
        "id": "6OKfy4Kd_BvH"
      },
      "source": [
        "pip install Pulp"
      ],
      "execution_count": null,
      "outputs": []
    },
    {
      "cell_type": "markdown",
      "metadata": {
        "id": "Altm6RNYFaRl"
      },
      "source": [
        "## Example - Resourcing Problem\n",
        "\n",
        "We are consulting for a boutique car manufacturer, producing luxury cars.  \n",
        "They run on one month (30 days) cycles, we have one cycle to show we can provide values.  \n",
        "There is one robot, two engineers, one detailer in the factory. The detailer has some holiday off, so only has 21 days available.   \n",
        "The 2 cars need different time with each resource:  \n",
        "Robot time: car A = 3 days, car B = 4 days  \n",
        "Engineer time : car A = 5 days, car B = 6 days  \n",
        "Detailer time : car A = 1.5 days, car B = 3 days  \n",
        "Car A provides $30,000 profit, Car B $45, 000.  \n",
        "At the moment, they produce 4 of each car per month, for 300,000 dollar profit. Not bad at all, but we think we can do better for them.\n",
        "\n",
        "a = number of car A  \n",
        "b = number of car B  \n",
        "\n",
        "Model:  \n",
        "MAX profit = a 30000 + b 45000  \n",
        "subject to  \n",
        "$a \\leq 0$  \n",
        "$b \\leq 0$  \n",
        "$3 a + 4 b \\leq 30$  \n",
        "$5 a + 6 b \\leq 60$  # 2 engineers  \n",
        "$1.5 a + 3 b \\leq 21$\n",
        "\n",
        "\n"
      ]
    },
    {
      "cell_type": "code",
      "metadata": {
        "id": "fo5C89Jg-uhP"
      },
      "source": [
        "import pulp"
      ],
      "execution_count": null,
      "outputs": []
    },
    {
      "cell_type": "code",
      "metadata": {
        "id": "Ivd9XIKhI-C-"
      },
      "source": [
        "model = pulp.LpProblem(\"Profit maximising problem\", pulp.LpMaximize)"
      ],
      "execution_count": null,
      "outputs": []
    },
    {
      "cell_type": "markdown",
      "metadata": {
        "id": "chelhbTLJkAJ"
      },
      "source": [
        "The decision variables are integer because we cannot sell half a car."
      ]
    },
    {
      "cell_type": "code",
      "metadata": {
        "id": "XrWrC7mVJX9v"
      },
      "source": [
        "a = pulp.LpVariable('a', lowBound=0, cat='Integer')\n",
        "b = pulp.LpVariable('b', lowBound=0, cat='Integer')"
      ],
      "execution_count": null,
      "outputs": []
    },
    {
      "cell_type": "code",
      "metadata": {
        "id": "ARneSdLTJ--z"
      },
      "source": [
        "# objective function\n",
        "model += 30000*a + 45000*b, \"Profit\"\n",
        "\n",
        "# constraints\n",
        "model += 3*a + 4*b <= 30\n",
        "model += 5*a + 6*b <= 60\n",
        "model += 1.5*a + 3*b <= 21"
      ],
      "execution_count": null,
      "outputs": []
    },
    {
      "cell_type": "code",
      "metadata": {
        "id": "RAek6JXDKbOn"
      },
      "source": [
        "# solve our problem\n",
        "model.solve()\n",
        "pulp.LpStatus[model.status]"
      ],
      "execution_count": null,
      "outputs": []
    },
    {
      "cell_type": "code",
      "metadata": {
        "id": "-LeLtEJtKoXo"
      },
      "source": [
        "# print our decision variable values\n",
        "print(\"Production of Car A = {}\".format(a.varValue))\n",
        "print(\"Production of Car B = {}\".format(b.varValue))"
      ],
      "execution_count": null,
      "outputs": []
    },
    {
      "cell_type": "code",
      "metadata": {
        "id": "WFqcIK3DMBJz"
      },
      "source": [
        "# print our objective function value\n",
        "pulp.value(model.objective)"
      ],
      "execution_count": null,
      "outputs": []
    },
    {
      "cell_type": "markdown",
      "metadata": {
        "id": "roKLttIJPkBd"
      },
      "source": [
        "## Example - Making Sausages\n",
        "\n"
      ]
    },
    {
      "cell_type": "code",
      "metadata": {
        "id": "NP_CtntOTuqv"
      },
      "source": [
        "import pandas as pd\n"
      ],
      "execution_count": null,
      "outputs": []
    },
    {
      "cell_type": "code",
      "metadata": {
        "id": "08vcFnd5T1fy"
      },
      "source": [
        "data = {'Ingredient': ['Pork', 'Wheat', 'Starch'], \n",
        "        'Cost (euro/kg)': [4.32, 2.46, 1.86],\n",
        "        'Availability (kg)': [30, 20, 17]}\n",
        "pd.DataFrame(data)"
      ],
      "execution_count": null,
      "outputs": []
    },
    {
      "cell_type": "markdown",
      "metadata": {
        "id": "MvADjVO1Unw7"
      },
      "source": [
        "We will make 2 types of sausages:  \n",
        "- Economy (>40% pork)  \n",
        "- Premium (>60% pork)\n",
        "\n",
        "One sausage is 50g (0.05kg)\n",
        "\n",
        "According to government regulations, the most starch we can use in our sausage is 25%. We have a contract with a butcher, and have already purchased 23 kg pork, that will go bad if it's not used.  \n",
        "\n",
        "We have a demand for 350 economy sausages, 500 premium sausages.\n",
        "\n",
        "We need to figure out how to most cost effectively blend our sausages.\n",
        "\n",
        "P_e = pork in the economy sausages (kg)  \n",
        "W_e = wheat in the economy sausages (kg)\n",
        "S_e = starch in the economy sausages (kg)\n",
        "P_p = pork in the premium sausages (kg)  \n",
        "W_p = wheat in the premium sausages (kg)\n",
        "S_p = starch in the premium sausages (kg)"
      ]
    },
    {
      "cell_type": "code",
      "metadata": {
        "id": "7evXAkiFW1mX"
      },
      "source": [
        "# import pulp\n",
        "model = pulp.LpProblem(\"Cost minimising blending problem\", pulp.LpMinimize)"
      ],
      "execution_count": null,
      "outputs": []
    },
    {
      "cell_type": "markdown",
      "metadata": {
        "id": "BwwjtfkQXGzp"
      },
      "source": [
        "6 decision variables.  \n",
        "We could name them individually but this would not scale up if we have hundreds/thousands of variables.  \n",
        "We will create a couple of lists from which we can create tuple indices."
      ]
    },
    {
      "cell_type": "code",
      "metadata": {
        "id": "NwZHvoNUXe2Q"
      },
      "source": [
        "sausage_types = ['economy', 'premium']\n",
        "ingredients = ['pork', 'wheat', 'starch']"
      ],
      "execution_count": null,
      "outputs": []
    },
    {
      "cell_type": "markdown",
      "metadata": {
        "id": "bC6kc9JXX1Ta"
      },
      "source": [
        "Each of these decision variables have similar characteristics: lower bound of 0, continuous variables). Therefore, we can use PuLP's LpVariable object's dict functionality, we can provide our tuple indices."
      ]
    },
    {
      "cell_type": "code",
      "metadata": {
        "id": "JVI7q1IyXC0L"
      },
      "source": [
        "ing_weight = pulp.LpVariable.dicts('weight kg',\n",
        "                                   ((i, j) for i in sausage_types for j in ingredients),\n",
        "                                   lowBound = 0,\n",
        "                                   cat = 'Countinuous')\n",
        "ing_weight"
      ],
      "execution_count": null,
      "outputs": []
    },
    {
      "cell_type": "markdown",
      "metadata": {
        "id": "5RpZh9i5YieH"
      },
      "source": [
        "PuLP provides an lpSum vector calculation for the sum of a list of linear expressions.  \n",
        "Whilst we only have 6 decision variables, I will demonstrate how the problem would be constructed in a way that could be scaled up to many variables using list comprehensions."
      ]
    },
    {
      "cell_type": "code",
      "metadata": {
        "id": "5f7VpkZbYl8_"
      },
      "source": [
        "model += (pulp.lpSum([\n",
        "                      4.32*ing_weight[(i, 'pork')] + 2.46*ing_weight[(i, 'wheat')] + 1.86*ing_weight[(i, 'starch')]\n",
        "                      for i in sausage_types])\n",
        ")"
      ],
      "execution_count": null,
      "outputs": []
    },
    {
      "cell_type": "code",
      "metadata": {
        "id": "G2e7Cv4gZTD2"
      },
      "source": [
        "# Constraints\n",
        "# 350 economy and 500 premium sausages at 0.05kg\n",
        "model += pulp.lpSum([ing_weight['economy', j] for j in ingredients]) == 350*0.05\n",
        "model += pulp.lpSum([ing_weight['premium', j] for j in ingredients]) == 500*0.05\n",
        "\n",
        "# economy has >= 40% pork, premium >= 60% pork\n",
        "model += ing_weight['economy', 'pork'] >= (0.4 * pulp.lpSum([ing_weight['economy', j] for j in ingredients]))\n",
        "model += ing_weight['premium', 'pork'] >= (0.6 * pulp.lpSum([ing_weight['premium', j] for j in ingredients]))\n",
        "\n",
        "# sausage must be <= 25% starch\n",
        "model += ing_weight['economy', 'starch'] <= 0.25 * pulp.lpSum([ing_weight['economy', j] for j in ingredients])\n",
        "model += ing_weight['premium', 'starch'] <= 0.25 * pulp.lpSum([ing_weight['premium', j] for j in ingredients])\n",
        "\n",
        "# We have at most 30 kg of pork, 20 kg of wheat and 17 kg of starch available\n",
        "model += pulp.lpSum([ing_weight[i, 'pork'] for i in sausage_types]) <= 30\n",
        "model += pulp.lpSum([ing_weight[i, 'wheat'] for i in sausage_types]) <= 20\n",
        "model += pulp.lpSum([ing_weight[i, 'starch'] for i in sausage_types]) <= 17\n",
        "\n",
        "# We have at least 23 kg of pork to use up\n",
        "model += pulp.lpSum([ing_weight[i, 'pork'] for i in sausage_types]) >= 23"
      ],
      "execution_count": null,
      "outputs": []
    },
    {
      "cell_type": "code",
      "metadata": {
        "id": "HF-miAMybauY"
      },
      "source": [
        "# solve our problem\n",
        "model.solve()\n",
        "pulp.LpStatus[model.status]"
      ],
      "execution_count": null,
      "outputs": []
    },
    {
      "cell_type": "code",
      "metadata": {
        "id": "ajrwWIo9bkds"
      },
      "source": [
        "for var in ing_weight:\n",
        "    var_value = ing_weight[var].varValue\n",
        "    print(\"The weight of {0} in {1} sausages is {2} kg\".format(var[1], var[0], var_value))"
      ],
      "execution_count": null,
      "outputs": []
    },
    {
      "cell_type": "code",
      "metadata": {
        "id": "IcMzTndEbyVh"
      },
      "source": [
        "total_cost = pulp.value(model.objective)\n",
        "\n",
        "print(\"The total cost is €{} for 350 economy sausages and 500 premium sausages\".format(round(total_cost, 2)))"
      ],
      "execution_count": null,
      "outputs": []
    },
    {
      "cell_type": "markdown",
      "metadata": {
        "id": "SfWNwr1Ti-mr"
      },
      "source": [
        "## Balanced Diet Problem Simple"
      ]
    },
    {
      "cell_type": "code",
      "metadata": {
        "id": "3kHK7LCC8B3j"
      },
      "source": [
        ""
      ],
      "execution_count": null,
      "outputs": []
    },
    {
      "cell_type": "markdown",
      "metadata": {
        "id": "uyswaUnaqatX"
      },
      "source": [
        ""
      ]
    }
  ]
}